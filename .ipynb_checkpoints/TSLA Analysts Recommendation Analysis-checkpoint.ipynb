{
 "cells": [
  {
   "cell_type": "code",
   "execution_count": 1,
   "metadata": {},
   "outputs": [],
   "source": [
    "import yfinance as yf\n",
    "import numpy as np\n",
    "import pandas as pd\n",
    "import matplotlib.pyplot as plt"
   ]
  },
  {
   "cell_type": "code",
   "execution_count": 2,
   "metadata": {},
   "outputs": [],
   "source": [
    "tsla = yf.Ticker(\"TSLA\")"
   ]
  },
  {
   "cell_type": "code",
   "execution_count": 3,
   "metadata": {},
   "outputs": [
    {
     "data": {
      "text/html": [
       "<div>\n",
       "<style scoped>\n",
       "    .dataframe tbody tr th:only-of-type {\n",
       "        vertical-align: middle;\n",
       "    }\n",
       "\n",
       "    .dataframe tbody tr th {\n",
       "        vertical-align: top;\n",
       "    }\n",
       "\n",
       "    .dataframe thead th {\n",
       "        text-align: right;\n",
       "    }\n",
       "</style>\n",
       "<table border=\"1\" class=\"dataframe\">\n",
       "  <thead>\n",
       "    <tr style=\"text-align: right;\">\n",
       "      <th></th>\n",
       "      <th>Date</th>\n",
       "      <th>Firm</th>\n",
       "      <th>To Grade</th>\n",
       "      <th>From Grade</th>\n",
       "      <th>Action</th>\n",
       "    </tr>\n",
       "  </thead>\n",
       "  <tbody>\n",
       "    <tr>\n",
       "      <th>0</th>\n",
       "      <td>2012-02-16 07:42:00</td>\n",
       "      <td>JP Morgan</td>\n",
       "      <td>Overweight</td>\n",
       "      <td></td>\n",
       "      <td>main</td>\n",
       "    </tr>\n",
       "    <tr>\n",
       "      <th>1</th>\n",
       "      <td>2012-02-16 13:53:00</td>\n",
       "      <td>Wunderlich</td>\n",
       "      <td>Hold</td>\n",
       "      <td></td>\n",
       "      <td>down</td>\n",
       "    </tr>\n",
       "    <tr>\n",
       "      <th>2</th>\n",
       "      <td>2012-02-17 06:17:00</td>\n",
       "      <td>Oxen Group</td>\n",
       "      <td>Buy</td>\n",
       "      <td></td>\n",
       "      <td>init</td>\n",
       "    </tr>\n",
       "    <tr>\n",
       "      <th>3</th>\n",
       "      <td>2012-03-26 07:31:00</td>\n",
       "      <td>Wunderlich</td>\n",
       "      <td>Buy</td>\n",
       "      <td></td>\n",
       "      <td>up</td>\n",
       "    </tr>\n",
       "    <tr>\n",
       "      <th>4</th>\n",
       "      <td>2012-05-22 05:57:00</td>\n",
       "      <td>Maxim Group</td>\n",
       "      <td>Buy</td>\n",
       "      <td></td>\n",
       "      <td>init</td>\n",
       "    </tr>\n",
       "  </tbody>\n",
       "</table>\n",
       "</div>"
      ],
      "text/plain": [
       "                 Date         Firm    To Grade From Grade Action\n",
       "0 2012-02-16 07:42:00    JP Morgan  Overweight              main\n",
       "1 2012-02-16 13:53:00   Wunderlich        Hold              down\n",
       "2 2012-02-17 06:17:00   Oxen Group         Buy              init\n",
       "3 2012-03-26 07:31:00   Wunderlich         Buy                up\n",
       "4 2012-05-22 05:57:00  Maxim Group         Buy              init"
      ]
     },
     "execution_count": 3,
     "metadata": {},
     "output_type": "execute_result"
    }
   ],
   "source": [
    "df_base = tsla.recommendations.reset_index() #Alyways have original df to refer back to \n",
    "df = df_base.copy()\n",
    "df_base.head()"
   ]
  },
  {
   "cell_type": "code",
   "execution_count": 4,
   "metadata": {},
   "outputs": [
    {
     "data": {
      "text/plain": [
       "Neutral              56\n",
       "Buy                  46\n",
       "Outperform           34\n",
       "Underperform         30\n",
       "Hold                 28\n",
       "Sell                 25\n",
       "Underweight          23\n",
       "Overweight           22\n",
       "Equal-Weight         14\n",
       "Market Outperform     6\n",
       "Market Perform        6\n",
       "Sector Perform        4\n",
       "                      3\n",
       "Perform               1\n",
       "Underperformer        1\n",
       "Sector Weight         1\n",
       "Peer Perform          1\n",
       "In-Line               1\n",
       "Name: To Grade, dtype: int64"
      ]
     },
     "execution_count": 4,
     "metadata": {},
     "output_type": "execute_result"
    }
   ],
   "source": [
    "import datetime as dt\n",
    "df['Date'] = df['Date'].dt.floor('D') # Remove seconds\n",
    "df['To Grade'].value_counts()"
   ]
  },
  {
   "cell_type": "markdown",
   "metadata": {},
   "source": [
    "A lot of these terms mean the same thing, so let's group them into simpler Buy , Sell, Hold"
   ]
  },
  {
   "cell_type": "code",
   "execution_count": 5,
   "metadata": {},
   "outputs": [],
   "source": [
    "df['To Grade'] = np.where((df['To Grade']== 'Outperform')|(df['To Grade']== 'Overweight')| (df['To Grade']== 'Strong Buy'),(\n",
    "'Buy'),df['To Grade']) #Changing terms to Buy"
   ]
  },
  {
   "cell_type": "code",
   "execution_count": 6,
   "metadata": {},
   "outputs": [],
   "source": [
    "df['To Grade'] = np.where((df['To Grade']== 'Neutral')|(df['To Grade']== 'Market Perform')| (df['To Grade']== 'Equal-Weight'),(\n",
    "'Hold'),df['To Grade']) #Changing terms to Hold"
   ]
  },
  {
   "cell_type": "code",
   "execution_count": 7,
   "metadata": {},
   "outputs": [],
   "source": [
    "df['To Grade'] = np.where((df['To Grade']== 'Underweight')|(df['To Grade']== 'Underperform'),(\n",
    "'Sell'),df['To Grade']) #Changing terms to Sell"
   ]
  },
  {
   "cell_type": "code",
   "execution_count": 8,
   "metadata": {},
   "outputs": [
    {
     "data": {
      "text/plain": [
       "Hold                 104\n",
       "Buy                  102\n",
       "Sell                  78\n",
       "Market Outperform      6\n",
       "Sector Perform         4\n",
       "                       3\n",
       "Underperformer         1\n",
       "Peer Perform           1\n",
       "Sector Weight          1\n",
       "In-Line                1\n",
       "Perform                1\n",
       "Name: To Grade, dtype: int64"
      ]
     },
     "execution_count": 8,
     "metadata": {},
     "output_type": "execute_result"
    }
   ],
   "source": [
    "df['To Grade'].value_counts()"
   ]
  },
  {
   "cell_type": "code",
   "execution_count": 9,
   "metadata": {},
   "outputs": [],
   "source": [
    "#Remove any values that are not buy/sell/hold\n",
    "df = df.loc[(df['To Grade'] == 'Hold')|(df['To Grade']=='Buy')|(df['To Grade']=='Sell')].copy()"
   ]
  },
  {
   "cell_type": "code",
   "execution_count": 10,
   "metadata": {},
   "outputs": [
    {
     "data": {
      "text/plain": [
       "Morgan Stanley              29\n",
       "Jefferies                   18\n",
       "Wedbush                     18\n",
       "JP Morgan                   16\n",
       "Baird                       15\n",
       "Goldman Sachs               15\n",
       "Deutsche Bank               15\n",
       "Canaccord Genuity           12\n",
       "Barclays                    11\n",
       "Credit Suisse               10\n",
       "UBS                          9\n",
       "Bank of America              8\n",
       "Standpoint Research          7\n",
       "RBC Capital                  7\n",
       "Piper Sandler                6\n",
       "Oppenheimer                  6\n",
       "Citigroup                    6\n",
       "B of A Securities            6\n",
       "Roth Capital                 5\n",
       "Cowen & Co.                  4\n",
       "Nomura                       4\n",
       "Stifel Nicolaus              4\n",
       "PiperJaffray                 3\n",
       "JMP Securities               3\n",
       "Pacific Crest                3\n",
       "Wunderlich                   3\n",
       "Bernstein                    3\n",
       "Argus Research               3\n",
       "New Street                   3\n",
       "CLSA                         2\n",
       "Argus                        2\n",
       "Evercore ISI Group           2\n",
       "Global Equities Research     2\n",
       "Exane BNP Paribas            2\n",
       "S&P Capital IQ               2\n",
       "FBN Securities               1\n",
       "Oxen Group                   1\n",
       "Lazard                       1\n",
       "Tigress Financial            1\n",
       "FBR Capital                  1\n",
       "Northland Securities         1\n",
       "Deutsche bank                1\n",
       "Maxim Group                  1\n",
       "CFRA                         1\n",
       "Sterne Agee CRT              1\n",
       "Citi                         1\n",
       "Daiwa Capital                1\n",
       "China Renaissance            1\n",
       "Berenberg                    1\n",
       "Vertical Group               1\n",
       "Ascendiant Capital           1\n",
       "MLV & Co.                    1\n",
       "ISI Group                    1\n",
       "Dougherty                    1\n",
       "Needham                      1\n",
       "Name: Firm, dtype: int64"
      ]
     },
     "execution_count": 10,
     "metadata": {},
     "output_type": "execute_result"
    }
   ],
   "source": [
    "df['Firm'].value_counts()"
   ]
  },
  {
   "cell_type": "code",
   "execution_count": 11,
   "metadata": {},
   "outputs": [
    {
     "data": {
      "text/plain": [
       "Morgan Stanley       29\n",
       "Jefferies            18\n",
       "Wedbush              18\n",
       "JP Morgan            16\n",
       "Goldman Sachs        15\n",
       "Baird                15\n",
       "Deutsche Bank        15\n",
       "Canaccord Genuity    12\n",
       "Barclays             11\n",
       "Credit Suisse        10\n",
       "Name: Firm, dtype: int64"
      ]
     },
     "execution_count": 11,
     "metadata": {},
     "output_type": "execute_result"
    }
   ],
   "source": [
    "#Let's only evaluate firms with at least 10 recommendations\n",
    "df = df.groupby(\"Firm\").filter(lambda x: len(x) > 9).copy()\n",
    "df['Firm'].value_counts()"
   ]
  },
  {
   "cell_type": "code",
   "execution_count": 12,
   "metadata": {},
   "outputs": [
    {
     "data": {
      "text/plain": [
       "main    117\n",
       "down     19\n",
       "up       14\n",
       "init      5\n",
       "reit      4\n",
       "Name: Action, dtype: int64"
      ]
     },
     "execution_count": 12,
     "metadata": {},
     "output_type": "execute_result"
    }
   ],
   "source": [
    "df['Action'].value_counts()"
   ]
  },
  {
   "cell_type": "markdown",
   "metadata": {},
   "source": [
    "### Our df now has simplified recommendations and only companies that frequently provide recommendations for TSLA\n",
    "\n",
    "### Time to bring in historical stock data so we can evaluate the recommendations"
   ]
  },
  {
   "cell_type": "code",
   "execution_count": 13,
   "metadata": {},
   "outputs": [
    {
     "data": {
      "text/html": [
       "<div>\n",
       "<style scoped>\n",
       "    .dataframe tbody tr th:only-of-type {\n",
       "        vertical-align: middle;\n",
       "    }\n",
       "\n",
       "    .dataframe tbody tr th {\n",
       "        vertical-align: top;\n",
       "    }\n",
       "\n",
       "    .dataframe thead th {\n",
       "        text-align: right;\n",
       "    }\n",
       "</style>\n",
       "<table border=\"1\" class=\"dataframe\">\n",
       "  <thead>\n",
       "    <tr style=\"text-align: right;\">\n",
       "      <th></th>\n",
       "      <th>Date</th>\n",
       "      <th>Firm</th>\n",
       "      <th>To Grade</th>\n",
       "      <th>From Grade</th>\n",
       "      <th>Action</th>\n",
       "    </tr>\n",
       "  </thead>\n",
       "  <tbody>\n",
       "    <tr>\n",
       "      <th>count</th>\n",
       "      <td>159</td>\n",
       "      <td>159</td>\n",
       "      <td>159</td>\n",
       "      <td>159</td>\n",
       "      <td>159</td>\n",
       "    </tr>\n",
       "    <tr>\n",
       "      <th>unique</th>\n",
       "      <td>130</td>\n",
       "      <td>10</td>\n",
       "      <td>3</td>\n",
       "      <td>11</td>\n",
       "      <td>5</td>\n",
       "    </tr>\n",
       "    <tr>\n",
       "      <th>top</th>\n",
       "      <td>2016-05-05 00:00:00</td>\n",
       "      <td>Morgan Stanley</td>\n",
       "      <td>Hold</td>\n",
       "      <td></td>\n",
       "      <td>main</td>\n",
       "    </tr>\n",
       "    <tr>\n",
       "      <th>freq</th>\n",
       "      <td>4</td>\n",
       "      <td>29</td>\n",
       "      <td>69</td>\n",
       "      <td>112</td>\n",
       "      <td>117</td>\n",
       "    </tr>\n",
       "    <tr>\n",
       "      <th>first</th>\n",
       "      <td>2012-02-16 00:00:00</td>\n",
       "      <td>NaN</td>\n",
       "      <td>NaN</td>\n",
       "      <td>NaN</td>\n",
       "      <td>NaN</td>\n",
       "    </tr>\n",
       "    <tr>\n",
       "      <th>last</th>\n",
       "      <td>2020-07-29 00:00:00</td>\n",
       "      <td>NaN</td>\n",
       "      <td>NaN</td>\n",
       "      <td>NaN</td>\n",
       "      <td>NaN</td>\n",
       "    </tr>\n",
       "  </tbody>\n",
       "</table>\n",
       "</div>"
      ],
      "text/plain": [
       "                       Date            Firm To Grade From Grade Action\n",
       "count                   159             159      159        159    159\n",
       "unique                  130              10        3         11      5\n",
       "top     2016-05-05 00:00:00  Morgan Stanley     Hold              main\n",
       "freq                      4              29       69        112    117\n",
       "first   2012-02-16 00:00:00             NaN      NaN        NaN    NaN\n",
       "last    2020-07-29 00:00:00             NaN      NaN        NaN    NaN"
      ]
     },
     "execution_count": 13,
     "metadata": {},
     "output_type": "execute_result"
    }
   ],
   "source": [
    "#Easy way to find date range \n",
    "df.describe()"
   ]
  },
  {
   "cell_type": "code",
   "execution_count": 14,
   "metadata": {},
   "outputs": [
    {
     "data": {
      "text/html": [
       "<div>\n",
       "<style scoped>\n",
       "    .dataframe tbody tr th:only-of-type {\n",
       "        vertical-align: middle;\n",
       "    }\n",
       "\n",
       "    .dataframe tbody tr th {\n",
       "        vertical-align: top;\n",
       "    }\n",
       "\n",
       "    .dataframe thead th {\n",
       "        text-align: right;\n",
       "    }\n",
       "</style>\n",
       "<table border=\"1\" class=\"dataframe\">\n",
       "  <thead>\n",
       "    <tr style=\"text-align: right;\">\n",
       "      <th></th>\n",
       "      <th>Open</th>\n",
       "      <th>High</th>\n",
       "      <th>Low</th>\n",
       "      <th>Close</th>\n",
       "      <th>Adj Close</th>\n",
       "      <th>Volume</th>\n",
       "    </tr>\n",
       "    <tr>\n",
       "      <th>Date</th>\n",
       "      <th></th>\n",
       "      <th></th>\n",
       "      <th></th>\n",
       "      <th></th>\n",
       "      <th></th>\n",
       "      <th></th>\n",
       "    </tr>\n",
       "  </thead>\n",
       "  <tbody>\n",
       "    <tr>\n",
       "      <th>2012-01-03</th>\n",
       "      <td>28.940001</td>\n",
       "      <td>29.500000</td>\n",
       "      <td>27.650000</td>\n",
       "      <td>28.080000</td>\n",
       "      <td>28.080000</td>\n",
       "      <td>928100</td>\n",
       "    </tr>\n",
       "    <tr>\n",
       "      <th>2012-01-04</th>\n",
       "      <td>28.209999</td>\n",
       "      <td>28.670000</td>\n",
       "      <td>27.500000</td>\n",
       "      <td>27.709999</td>\n",
       "      <td>27.709999</td>\n",
       "      <td>630100</td>\n",
       "    </tr>\n",
       "    <tr>\n",
       "      <th>2012-01-05</th>\n",
       "      <td>27.760000</td>\n",
       "      <td>27.930000</td>\n",
       "      <td>26.850000</td>\n",
       "      <td>27.120001</td>\n",
       "      <td>27.120001</td>\n",
       "      <td>1005500</td>\n",
       "    </tr>\n",
       "    <tr>\n",
       "      <th>2012-01-06</th>\n",
       "      <td>27.200001</td>\n",
       "      <td>27.790001</td>\n",
       "      <td>26.410000</td>\n",
       "      <td>26.910000</td>\n",
       "      <td>26.910000</td>\n",
       "      <td>986300</td>\n",
       "    </tr>\n",
       "    <tr>\n",
       "      <th>2012-01-09</th>\n",
       "      <td>27.000000</td>\n",
       "      <td>27.490000</td>\n",
       "      <td>26.120001</td>\n",
       "      <td>27.250000</td>\n",
       "      <td>27.250000</td>\n",
       "      <td>897000</td>\n",
       "    </tr>\n",
       "  </tbody>\n",
       "</table>\n",
       "</div>"
      ],
      "text/plain": [
       "                 Open       High        Low      Close  Adj Close   Volume\n",
       "Date                                                                      \n",
       "2012-01-03  28.940001  29.500000  27.650000  28.080000  28.080000   928100\n",
       "2012-01-04  28.209999  28.670000  27.500000  27.709999  27.709999   630100\n",
       "2012-01-05  27.760000  27.930000  26.850000  27.120001  27.120001  1005500\n",
       "2012-01-06  27.200001  27.790001  26.410000  26.910000  26.910000   986300\n",
       "2012-01-09  27.000000  27.490000  26.120001  27.250000  27.250000   897000"
      ]
     },
     "execution_count": 14,
     "metadata": {},
     "output_type": "execute_result"
    }
   ],
   "source": [
    "prices = yf.download('TSLA', start='2012-01-01', end='2020-07-24', interval = '1d', progress=False)\n",
    "prices.head()"
   ]
  },
  {
   "cell_type": "code",
   "execution_count": 15,
   "metadata": {},
   "outputs": [],
   "source": [
    "df_buy = df.loc[df['To Grade']=='Buy']\n",
    "df_sell = df.loc[df['To Grade']=='Sell']"
   ]
  },
  {
   "cell_type": "code",
   "execution_count": 16,
   "metadata": {},
   "outputs": [],
   "source": [
    "#get buy and sell in prices df so we can scatter plot them on the price plot\n",
    "plot_buy = prices.merge(df_buy,on='Date', how = 'left')\n",
    "plot_sell = prices.merge(df_sell,on='Date', how = 'left')\n"
   ]
  },
  {
   "cell_type": "code",
   "execution_count": 17,
   "metadata": {},
   "outputs": [],
   "source": [
    "plot_buy = plot_buy.loc[plot_buy['To Grade']=='Buy']\n",
    "plot_sell = plot_sell.loc[plot_sell['To Grade']=='Sell']"
   ]
  },
  {
   "cell_type": "code",
   "execution_count": 18,
   "metadata": {},
   "outputs": [
    {
     "data": {
      "text/plain": [
       "<matplotlib.legend.Legend at 0x2e870c1f9c8>"
      ]
     },
     "execution_count": 18,
     "metadata": {},
     "output_type": "execute_result"
    },
    {
     "data": {
      "image/png": "[encoded data removed]",
      "text/plain": [
       "<Figure size 1080x864 with 3 Axes>"
      ]
     },
     "metadata": {
      "needs_background": "light"
     },
     "output_type": "display_data"
    }
   ],
   "source": [
    "fig = plt.figure(figsize = (15,12))\n",
    "plt.style.use('ggplot')\n",
    "\n",
    "#variables for plot to make tweaking easier\n",
    "line_alpha = 0.6\n",
    "marker_alpha = 1\n",
    "line_color = 'b'\n",
    "buy_color = 'g'\n",
    "sell_color = 'r'\n",
    "marker_s = 70\n",
    "\n",
    "ax1 = plt.subplot(3,1,1)\n",
    "plt.plot(prices.index, prices.Close, color =line_color, alpha=line_alpha)\n",
    "plt.scatter(x = plot_buy.Date, y = plot_buy.Close, color = buy_color, marker = '^', label = 'Buy Reco',s=marker_s, alpha = marker_alpha)\n",
    "plt.scatter(x = plot_sell.Date, y = plot_sell.Close, color = sell_color, marker = 'v', label = 'Sell Reco',s=marker_s, alpha=marker_alpha)\n",
    "ax1.set_title('Tesla Buy and Sell Recommendations')\n",
    "\n",
    "ax2 = plt.subplot(3,1,2)\n",
    "plt.plot(prices.index, prices.Close, color =line_color, alpha=line_alpha)\n",
    "plt.scatter(x = plot_buy.Date, y = plot_buy.Close, color = buy_color, marker = '^', label = 'Buy Reco',s=marker_s, alpha = marker_alpha)\n",
    "plt.scatter(x = plot_sell.Date, y = plot_sell.Close, color = sell_color, marker = 'v', label = 'Sell Reco',s=marker_s, alpha=marker_alpha)\n",
    "ax2.set_title('2014 to 2017 Tesla Recos')\n",
    "\n",
    "datemin2 = dt.date(2014, 1, 2)\n",
    "datemax2 = dt.date(2017, 1, 3)\n",
    "ax2.set_xlim(datemin2, datemax2)\n",
    "ax2.set_ylim(50,400)\n",
    "\n",
    "ax3 = plt.subplot(3,1,3)\n",
    "plt.plot(prices.index, prices.Close, color =line_color, alpha=line_alpha)\n",
    "plt.scatter(x = plot_buy.Date, y = plot_buy.Close, color = buy_color, marker = '^', label = 'Buy Reco',s=marker_s, alpha = marker_alpha)\n",
    "plt.scatter(x = plot_sell.Date, y = plot_sell.Close, color = sell_color, marker = 'v', label = 'Sell Reco',s=marker_s, alpha=marker_alpha)\n",
    "ax3.set_title('2017 to 2020 Tesla Recos')\n",
    "\n",
    "datemin3 = dt.date(2018, 7, 1) #Not many recos between 2017 and 2018 and non volatile performance... just leave out\n",
    "datemax3 = dt.date(2020, 7, 24)\n",
    "ax3.set_xlim(datemin3, datemax3)\n",
    "ax3.set_ylim(100,1700)\n",
    "\n",
    "ax1.legend(loc=2)\n",
    "ax2.legend(loc=2)\n",
    "ax3.legend(loc=2)"
   ]
  },
  {
   "cell_type": "markdown",
   "metadata": {},
   "source": [
    "#### We can see that sell recos outweigh buy recos when approaching/during Tesla's recent surge in price"
   ]
  },
  {
   "cell_type": "code",
   "execution_count": 19,
   "metadata": {},
   "outputs": [
    {
     "data": {
      "text/html": [
       "<div>\n",
       "<style scoped>\n",
       "    .dataframe tbody tr th:only-of-type {\n",
       "        vertical-align: middle;\n",
       "    }\n",
       "\n",
       "    .dataframe tbody tr th {\n",
       "        vertical-align: top;\n",
       "    }\n",
       "\n",
       "    .dataframe thead th {\n",
       "        text-align: right;\n",
       "    }\n",
       "</style>\n",
       "<table border=\"1\" class=\"dataframe\">\n",
       "  <thead>\n",
       "    <tr style=\"text-align: right;\">\n",
       "      <th>To Grade</th>\n",
       "      <th>Buy</th>\n",
       "      <th>Hold</th>\n",
       "      <th>Sell</th>\n",
       "    </tr>\n",
       "    <tr>\n",
       "      <th>Firm</th>\n",
       "      <th></th>\n",
       "      <th></th>\n",
       "      <th></th>\n",
       "    </tr>\n",
       "  </thead>\n",
       "  <tbody>\n",
       "    <tr>\n",
       "      <th>Morgan Stanley</th>\n",
       "      <td>NaN</td>\n",
       "      <td>5.0</td>\n",
       "      <td>6.0</td>\n",
       "    </tr>\n",
       "    <tr>\n",
       "      <th>Credit Suisse</th>\n",
       "      <td>NaN</td>\n",
       "      <td>2.0</td>\n",
       "      <td>2.0</td>\n",
       "    </tr>\n",
       "    <tr>\n",
       "      <th>Barclays</th>\n",
       "      <td>NaN</td>\n",
       "      <td>NaN</td>\n",
       "      <td>2.0</td>\n",
       "    </tr>\n",
       "    <tr>\n",
       "      <th>JP Morgan</th>\n",
       "      <td>NaN</td>\n",
       "      <td>NaN</td>\n",
       "      <td>2.0</td>\n",
       "    </tr>\n",
       "    <tr>\n",
       "      <th>Wedbush</th>\n",
       "      <td>NaN</td>\n",
       "      <td>9.0</td>\n",
       "      <td>NaN</td>\n",
       "    </tr>\n",
       "    <tr>\n",
       "      <th>Canaccord Genuity</th>\n",
       "      <td>4.0</td>\n",
       "      <td>3.0</td>\n",
       "      <td>NaN</td>\n",
       "    </tr>\n",
       "    <tr>\n",
       "      <th>Baird</th>\n",
       "      <td>NaN</td>\n",
       "      <td>2.0</td>\n",
       "      <td>NaN</td>\n",
       "    </tr>\n",
       "    <tr>\n",
       "      <th>Deutsche Bank</th>\n",
       "      <td>NaN</td>\n",
       "      <td>2.0</td>\n",
       "      <td>NaN</td>\n",
       "    </tr>\n",
       "    <tr>\n",
       "      <th>Goldman Sachs</th>\n",
       "      <td>NaN</td>\n",
       "      <td>2.0</td>\n",
       "      <td>NaN</td>\n",
       "    </tr>\n",
       "    <tr>\n",
       "      <th>Jefferies</th>\n",
       "      <td>3.0</td>\n",
       "      <td>1.0</td>\n",
       "      <td>NaN</td>\n",
       "    </tr>\n",
       "  </tbody>\n",
       "</table>\n",
       "</div>"
      ],
      "text/plain": [
       "To Grade           Buy  Hold  Sell\n",
       "Firm                              \n",
       "Morgan Stanley     NaN   5.0   6.0\n",
       "Credit Suisse      NaN   2.0   2.0\n",
       "Barclays           NaN   NaN   2.0\n",
       "JP Morgan          NaN   NaN   2.0\n",
       "Wedbush            NaN   9.0   NaN\n",
       "Canaccord Genuity  4.0   3.0   NaN\n",
       "Baird              NaN   2.0   NaN\n",
       "Deutsche Bank      NaN   2.0   NaN\n",
       "Goldman Sachs      NaN   2.0   NaN\n",
       "Jefferies          3.0   1.0   NaN"
      ]
     },
     "execution_count": 19,
     "metadata": {},
     "output_type": "execute_result"
    }
   ],
   "source": [
    "df_surge = df.loc['2019-10-01':] #Set date before price surge\n",
    "surge_gp = df_surge.groupby(['To Grade','Firm']).count().reset_index() #Will use this for a pivot table and then for bar plot\n",
    "surge_gp.drop(columns = ['Date','From Grade'], inplace=True)\n",
    "\n",
    "surge_pivot = surge_gp.pivot(index = 'Firm',\n",
    "                            columns = 'To Grade',\n",
    "                            values = 'Action')\n",
    "\n",
    "\n",
    "surge_pivot.sort_values(by=['Sell','Hold'],ascending=False) #Ignore \"To Grade\" over the index..."
   ]
  },
  {
   "cell_type": "code",
   "execution_count": 20,
   "metadata": {},
   "outputs": [
    {
     "data": {
      "image/png": "[encoded data removed]",
      "text/plain": [
       "<Figure size 720x360 with 1 Axes>"
      ]
     },
     "metadata": {},
     "output_type": "display_data"
    }
   ],
   "source": [
    "import seaborn as sns\n",
    "\n",
    "plt.figure(figsize=(10,5))\n",
    "ax = sns.barplot(x='Firm',y='Action', hue = 'To Grade',data = surge_gp)\n",
    "ax.set_xticklabels(ax.get_xticklabels(),rotation=80)\n",
    "plt.title('Tesla Recos During Price Surge')\n",
    "\n",
    "plt.show() #using plt.show to avoid annoying text"
   ]
  },
  {
   "cell_type": "markdown",
   "metadata": {},
   "source": [
    "Morgan Stanley made the worst decisions during the recent price surge. Not only did they have the most sell recos, but they also had the second most hold recos, which we can consider a failed reco during a time of extrodinary growth\n",
    "\n",
    "-----\n",
    "\n",
    "Now that we have performed a visual analysis on reco types, we need to evaluate the stock performance after each recommendation\n",
    "\n",
    "We will need to find the return for given periods after each recommendation has been made\n"
   ]
  },
  {
   "cell_type": "code",
   "execution_count": 21,
   "metadata": {},
   "outputs": [],
   "source": [
    "df1 = prices.merge(df, on='Date',how='left') # Get recos and prices in one df"
   ]
  },
  {
   "cell_type": "markdown",
   "metadata": {},
   "source": [
    "There are about 261 working days a year in the USA. Since our df only counts working days, we will need to use an adjusted time period"
   ]
  },
  {
   "cell_type": "code",
   "execution_count": 22,
   "metadata": {},
   "outputs": [
    {
     "data": {
      "text/html": [
       "<div>\n",
       "<style scoped>\n",
       "    .dataframe tbody tr th:only-of-type {\n",
       "        vertical-align: middle;\n",
       "    }\n",
       "\n",
       "    .dataframe tbody tr th {\n",
       "        vertical-align: top;\n",
       "    }\n",
       "\n",
       "    .dataframe thead th {\n",
       "        text-align: right;\n",
       "    }\n",
       "</style>\n",
       "<table border=\"1\" class=\"dataframe\">\n",
       "  <thead>\n",
       "    <tr style=\"text-align: right;\">\n",
       "      <th></th>\n",
       "      <th>Date</th>\n",
       "      <th>Open</th>\n",
       "      <th>High</th>\n",
       "      <th>Low</th>\n",
       "      <th>Close</th>\n",
       "      <th>Adj Close</th>\n",
       "      <th>Volume</th>\n",
       "      <th>Firm</th>\n",
       "      <th>To Grade</th>\n",
       "      <th>From Grade</th>\n",
       "      <th>Action</th>\n",
       "      <th>30 day return</th>\n",
       "      <th>90 day return</th>\n",
       "      <th>180 day return</th>\n",
       "      <th>360 day return</th>\n",
       "    </tr>\n",
       "  </thead>\n",
       "  <tbody>\n",
       "    <tr>\n",
       "      <th>19</th>\n",
       "      <td>2012-01-31</td>\n",
       "      <td>29.900000</td>\n",
       "      <td>30.000000</td>\n",
       "      <td>28.870001</td>\n",
       "      <td>29.07</td>\n",
       "      <td>29.07</td>\n",
       "      <td>956400</td>\n",
       "      <td>NaN</td>\n",
       "      <td>NaN</td>\n",
       "      <td>NaN</td>\n",
       "      <td>NaN</td>\n",
       "      <td>NaN</td>\n",
       "      <td>NaN</td>\n",
       "      <td>NaN</td>\n",
       "      <td>NaN</td>\n",
       "    </tr>\n",
       "    <tr>\n",
       "      <th>20</th>\n",
       "      <td>2012-02-01</td>\n",
       "      <td>29.070000</td>\n",
       "      <td>29.700001</td>\n",
       "      <td>29.000000</td>\n",
       "      <td>29.58</td>\n",
       "      <td>29.58</td>\n",
       "      <td>523200</td>\n",
       "      <td>NaN</td>\n",
       "      <td>NaN</td>\n",
       "      <td>NaN</td>\n",
       "      <td>NaN</td>\n",
       "      <td>NaN</td>\n",
       "      <td>NaN</td>\n",
       "      <td>NaN</td>\n",
       "      <td>NaN</td>\n",
       "    </tr>\n",
       "    <tr>\n",
       "      <th>21</th>\n",
       "      <td>2012-02-02</td>\n",
       "      <td>29.719999</td>\n",
       "      <td>30.879999</td>\n",
       "      <td>29.610001</td>\n",
       "      <td>30.25</td>\n",
       "      <td>30.25</td>\n",
       "      <td>805700</td>\n",
       "      <td>NaN</td>\n",
       "      <td>NaN</td>\n",
       "      <td>NaN</td>\n",
       "      <td>NaN</td>\n",
       "      <td>0.077279</td>\n",
       "      <td>NaN</td>\n",
       "      <td>NaN</td>\n",
       "      <td>NaN</td>\n",
       "    </tr>\n",
       "    <tr>\n",
       "      <th>22</th>\n",
       "      <td>2012-02-03</td>\n",
       "      <td>30.410000</td>\n",
       "      <td>31.330000</td>\n",
       "      <td>30.250000</td>\n",
       "      <td>31.15</td>\n",
       "      <td>31.15</td>\n",
       "      <td>764500</td>\n",
       "      <td>NaN</td>\n",
       "      <td>NaN</td>\n",
       "      <td>NaN</td>\n",
       "      <td>NaN</td>\n",
       "      <td>0.124143</td>\n",
       "      <td>NaN</td>\n",
       "      <td>NaN</td>\n",
       "      <td>NaN</td>\n",
       "    </tr>\n",
       "  </tbody>\n",
       "</table>\n",
       "</div>"
      ],
      "text/plain": [
       "         Date       Open       High        Low  Close  Adj Close  Volume Firm  \\\n",
       "19 2012-01-31  29.900000  30.000000  28.870001  29.07      29.07  956400  NaN   \n",
       "20 2012-02-01  29.070000  29.700001  29.000000  29.58      29.58  523200  NaN   \n",
       "21 2012-02-02  29.719999  30.879999  29.610001  30.25      30.25  805700  NaN   \n",
       "22 2012-02-03  30.410000  31.330000  30.250000  31.15      31.15  764500  NaN   \n",
       "\n",
       "   To Grade From Grade Action  30 day return  90 day return  180 day return  \\\n",
       "19      NaN        NaN    NaN            NaN            NaN             NaN   \n",
       "20      NaN        NaN    NaN            NaN            NaN             NaN   \n",
       "21      NaN        NaN    NaN       0.077279            NaN             NaN   \n",
       "22      NaN        NaN    NaN       0.124143            NaN             NaN   \n",
       "\n",
       "    360 day return  \n",
       "19             NaN  \n",
       "20             NaN  \n",
       "21             NaN  \n",
       "22             NaN  "
      ]
     },
     "execution_count": 22,
     "metadata": {},
     "output_type": "execute_result"
    }
   ],
   "source": [
    "dt_adj = 261/365 #use to adjust our desired windows\n",
    "\n",
    "df1['30 day return'] = df1.loc[:,'Close'].pct_change(periods = int(dt_adj*30))\n",
    "df1['90 day return'] = df1.loc[:,'Close'].pct_change(periods = int(dt_adj*90))\n",
    "df1['180 day return'] = df1.loc[:,'Close'].pct_change(periods = int(dt_adj*180))\n",
    "df1['360 day return'] = df1.loc[:,'Close'].pct_change(periods = int(dt_adj*360))\n",
    "df1.iloc[19:23] #Perfect... our 30 window starts 30 calender days later as epected"
   ]
  },
  {
   "cell_type": "code",
   "execution_count": 23,
   "metadata": {},
   "outputs": [],
   "source": [
    "df1.drop(columns = ['Open','High','Low','Adj Close','Volume','From Grade'],inplace= True)"
   ]
  },
  {
   "cell_type": "markdown",
   "metadata": {},
   "source": [
    "Right now we have our 30 day return the day it occurs... we need to shift back our columns by the appropriate amount so we have the reco day and the future return on the same line"
   ]
  },
  {
   "cell_type": "code",
   "execution_count": 24,
   "metadata": {},
   "outputs": [
    {
     "data": {
      "text/html": [
       "<div>\n",
       "<style scoped>\n",
       "    .dataframe tbody tr th:only-of-type {\n",
       "        vertical-align: middle;\n",
       "    }\n",
       "\n",
       "    .dataframe tbody tr th {\n",
       "        vertical-align: top;\n",
       "    }\n",
       "\n",
       "    .dataframe thead th {\n",
       "        text-align: right;\n",
       "    }\n",
       "</style>\n",
       "<table border=\"1\" class=\"dataframe\">\n",
       "  <thead>\n",
       "    <tr style=\"text-align: right;\">\n",
       "      <th></th>\n",
       "      <th>Date</th>\n",
       "      <th>Close</th>\n",
       "      <th>Firm</th>\n",
       "      <th>To Grade</th>\n",
       "      <th>Action</th>\n",
       "      <th>30 day return</th>\n",
       "      <th>90 day return</th>\n",
       "      <th>180 day return</th>\n",
       "      <th>360 day return</th>\n",
       "    </tr>\n",
       "  </thead>\n",
       "  <tbody>\n",
       "    <tr>\n",
       "      <th>0</th>\n",
       "      <td>2012-01-03</td>\n",
       "      <td>28.080000</td>\n",
       "      <td>NaN</td>\n",
       "      <td>NaN</td>\n",
       "      <td>NaN</td>\n",
       "      <td>0.077279</td>\n",
       "      <td>0.246439</td>\n",
       "      <td>0.103632</td>\n",
       "      <td>0.172009</td>\n",
       "    </tr>\n",
       "    <tr>\n",
       "      <th>1</th>\n",
       "      <td>2012-01-04</td>\n",
       "      <td>27.709999</td>\n",
       "      <td>NaN</td>\n",
       "      <td>NaN</td>\n",
       "      <td>NaN</td>\n",
       "      <td>0.124143</td>\n",
       "      <td>0.244316</td>\n",
       "      <td>0.136413</td>\n",
       "      <td>0.200289</td>\n",
       "    </tr>\n",
       "    <tr>\n",
       "      <th>2</th>\n",
       "      <td>2012-01-05</td>\n",
       "      <td>27.120001</td>\n",
       "      <td>NaN</td>\n",
       "      <td>NaN</td>\n",
       "      <td>NaN</td>\n",
       "      <td>0.172566</td>\n",
       "      <td>0.222345</td>\n",
       "      <td>0.153024</td>\n",
       "      <td>0.250000</td>\n",
       "    </tr>\n",
       "    <tr>\n",
       "      <th>3</th>\n",
       "      <td>2012-01-06</td>\n",
       "      <td>26.910000</td>\n",
       "      <td>NaN</td>\n",
       "      <td>NaN</td>\n",
       "      <td>NaN</td>\n",
       "      <td>0.174285</td>\n",
       "      <td>0.206243</td>\n",
       "      <td>0.170940</td>\n",
       "      <td>0.267187</td>\n",
       "    </tr>\n",
       "    <tr>\n",
       "      <th>4</th>\n",
       "      <td>2012-01-09</td>\n",
       "      <td>27.250000</td>\n",
       "      <td>NaN</td>\n",
       "      <td>NaN</td>\n",
       "      <td>NaN</td>\n",
       "      <td>0.171743</td>\n",
       "      <td>0.214312</td>\n",
       "      <td>0.200000</td>\n",
       "      <td>0.261651</td>\n",
       "    </tr>\n",
       "  </tbody>\n",
       "</table>\n",
       "</div>"
      ],
      "text/plain": [
       "        Date      Close Firm To Grade Action  30 day return  90 day return  \\\n",
       "0 2012-01-03  28.080000  NaN      NaN    NaN       0.077279       0.246439   \n",
       "1 2012-01-04  27.709999  NaN      NaN    NaN       0.124143       0.244316   \n",
       "2 2012-01-05  27.120001  NaN      NaN    NaN       0.172566       0.222345   \n",
       "3 2012-01-06  26.910000  NaN      NaN    NaN       0.174285       0.206243   \n",
       "4 2012-01-09  27.250000  NaN      NaN    NaN       0.171743       0.214312   \n",
       "\n",
       "   180 day return  360 day return  \n",
       "0        0.103632        0.172009  \n",
       "1        0.136413        0.200289  \n",
       "2        0.153024        0.250000  \n",
       "3        0.170940        0.267187  \n",
       "4        0.200000        0.261651  "
      ]
     },
     "execution_count": 24,
     "metadata": {},
     "output_type": "execute_result"
    }
   ],
   "source": [
    "df1['30 day return'] = df1['30 day return'].shift(-int(dt_adj*30))\n",
    "df1['90 day return'] = df1['90 day return'].shift(-int(dt_adj*90))\n",
    "df1['180 day return'] = df1['180 day return'].shift(-int(dt_adj*180))\n",
    "df1['360 day return'] = df1['360 day return'].shift(-int(dt_adj*360))\n",
    "df1.head()"
   ]
  },
  {
   "cell_type": "markdown",
   "metadata": {},
   "source": [
    "df1 now has all of the information we need to evaluate Tesla's performance. We will come back to this df in the future when we want to break down return on recommendations by time period"
   ]
  },
  {
   "cell_type": "code",
   "execution_count": 25,
   "metadata": {},
   "outputs": [
    {
     "data": {
      "text/html": [
       "<div>\n",
       "<style scoped>\n",
       "    .dataframe tbody tr th:only-of-type {\n",
       "        vertical-align: middle;\n",
       "    }\n",
       "\n",
       "    .dataframe tbody tr th {\n",
       "        vertical-align: top;\n",
       "    }\n",
       "\n",
       "    .dataframe thead th {\n",
       "        text-align: right;\n",
       "    }\n",
       "</style>\n",
       "<table border=\"1\" class=\"dataframe\">\n",
       "  <thead>\n",
       "    <tr style=\"text-align: right;\">\n",
       "      <th>To Grade</th>\n",
       "      <th>Buy</th>\n",
       "      <th>Hold</th>\n",
       "      <th>Sell</th>\n",
       "    </tr>\n",
       "    <tr>\n",
       "      <th>Firm</th>\n",
       "      <th></th>\n",
       "      <th></th>\n",
       "      <th></th>\n",
       "    </tr>\n",
       "  </thead>\n",
       "  <tbody>\n",
       "    <tr>\n",
       "      <th>Jefferies</th>\n",
       "      <td>0.759147</td>\n",
       "      <td>0.017104</td>\n",
       "      <td>NaN</td>\n",
       "    </tr>\n",
       "    <tr>\n",
       "      <th>Canaccord Genuity</th>\n",
       "      <td>0.752451</td>\n",
       "      <td>-0.177586</td>\n",
       "      <td>NaN</td>\n",
       "    </tr>\n",
       "    <tr>\n",
       "      <th>Morgan Stanley</th>\n",
       "      <td>0.281255</td>\n",
       "      <td>0.254864</td>\n",
       "      <td>1.915461</td>\n",
       "    </tr>\n",
       "    <tr>\n",
       "      <th>Deutsche Bank</th>\n",
       "      <td>0.273282</td>\n",
       "      <td>0.617312</td>\n",
       "      <td>NaN</td>\n",
       "    </tr>\n",
       "    <tr>\n",
       "      <th>Goldman Sachs</th>\n",
       "      <td>0.178073</td>\n",
       "      <td>0.312329</td>\n",
       "      <td>0.339391</td>\n",
       "    </tr>\n",
       "    <tr>\n",
       "      <th>Wedbush</th>\n",
       "      <td>0.147192</td>\n",
       "      <td>0.746333</td>\n",
       "      <td>NaN</td>\n",
       "    </tr>\n",
       "    <tr>\n",
       "      <th>Baird</th>\n",
       "      <td>0.112150</td>\n",
       "      <td>0.726972</td>\n",
       "      <td>NaN</td>\n",
       "    </tr>\n",
       "    <tr>\n",
       "      <th>Credit Suisse</th>\n",
       "      <td>-0.018635</td>\n",
       "      <td>NaN</td>\n",
       "      <td>1.326347</td>\n",
       "    </tr>\n",
       "    <tr>\n",
       "      <th>JP Morgan</th>\n",
       "      <td>-0.136630</td>\n",
       "      <td>0.528621</td>\n",
       "      <td>0.225860</td>\n",
       "    </tr>\n",
       "    <tr>\n",
       "      <th>Barclays</th>\n",
       "      <td>NaN</td>\n",
       "      <td>0.131683</td>\n",
       "      <td>0.450957</td>\n",
       "    </tr>\n",
       "  </tbody>\n",
       "</table>\n",
       "</div>"
      ],
      "text/plain": [
       "To Grade                Buy      Hold      Sell\n",
       "Firm                                           \n",
       "Jefferies          0.759147  0.017104       NaN\n",
       "Canaccord Genuity  0.752451 -0.177586       NaN\n",
       "Morgan Stanley     0.281255  0.254864  1.915461\n",
       "Deutsche Bank      0.273282  0.617312       NaN\n",
       "Goldman Sachs      0.178073  0.312329  0.339391\n",
       "Wedbush            0.147192  0.746333       NaN\n",
       "Baird              0.112150  0.726972       NaN\n",
       "Credit Suisse     -0.018635       NaN  1.326347\n",
       "JP Morgan         -0.136630  0.528621  0.225860\n",
       "Barclays                NaN  0.131683  0.450957"
      ]
     },
     "execution_count": 25,
     "metadata": {},
     "output_type": "execute_result"
    }
   ],
   "source": [
    "return_gp = df1.groupby(['To Grade','Firm']).mean().reset_index()\n",
    "return_gp.drop(columns = 'Close',inplace=True)\n",
    "\n",
    "return_pivot_180 = return_gp.pivot(index = 'Firm',columns = 'To Grade',values = '180 day return')\n",
    "return_pivot_180.sort_values(by= 'Buy',ascending = False,inplace=True)\n",
    "return_pivot_180"
   ]
  },
  {
   "cell_type": "code",
   "execution_count": 26,
   "metadata": {},
   "outputs": [
    {
     "data": {
      "text/html": [
       "<div>\n",
       "<style scoped>\n",
       "    .dataframe tbody tr th:only-of-type {\n",
       "        vertical-align: middle;\n",
       "    }\n",
       "\n",
       "    .dataframe tbody tr th {\n",
       "        vertical-align: top;\n",
       "    }\n",
       "\n",
       "    .dataframe thead th {\n",
       "        text-align: right;\n",
       "    }\n",
       "</style>\n",
       "<table border=\"1\" class=\"dataframe\">\n",
       "  <thead>\n",
       "    <tr style=\"text-align: right;\">\n",
       "      <th>To Grade</th>\n",
       "      <th>Buy</th>\n",
       "      <th>Hold</th>\n",
       "      <th>Sell</th>\n",
       "    </tr>\n",
       "    <tr>\n",
       "      <th>Firm</th>\n",
       "      <th></th>\n",
       "      <th></th>\n",
       "      <th></th>\n",
       "    </tr>\n",
       "  </thead>\n",
       "  <tbody>\n",
       "    <tr>\n",
       "      <th>Goldman Sachs</th>\n",
       "      <td>3.208260</td>\n",
       "      <td>0.622700</td>\n",
       "      <td>1.474040</td>\n",
       "    </tr>\n",
       "    <tr>\n",
       "      <th>Canaccord Genuity</th>\n",
       "      <td>2.400359</td>\n",
       "      <td>-0.118172</td>\n",
       "      <td>NaN</td>\n",
       "    </tr>\n",
       "    <tr>\n",
       "      <th>Jefferies</th>\n",
       "      <td>1.524411</td>\n",
       "      <td>-0.141691</td>\n",
       "      <td>NaN</td>\n",
       "    </tr>\n",
       "    <tr>\n",
       "      <th>Morgan Stanley</th>\n",
       "      <td>1.304663</td>\n",
       "      <td>0.518896</td>\n",
       "      <td>NaN</td>\n",
       "    </tr>\n",
       "    <tr>\n",
       "      <th>Baird</th>\n",
       "      <td>0.446831</td>\n",
       "      <td>0.206576</td>\n",
       "      <td>NaN</td>\n",
       "    </tr>\n",
       "    <tr>\n",
       "      <th>Wedbush</th>\n",
       "      <td>0.411150</td>\n",
       "      <td>1.177491</td>\n",
       "      <td>NaN</td>\n",
       "    </tr>\n",
       "    <tr>\n",
       "      <th>Deutsche Bank</th>\n",
       "      <td>0.370181</td>\n",
       "      <td>0.844583</td>\n",
       "      <td>NaN</td>\n",
       "    </tr>\n",
       "    <tr>\n",
       "      <th>Credit Suisse</th>\n",
       "      <td>0.204717</td>\n",
       "      <td>NaN</td>\n",
       "      <td>NaN</td>\n",
       "    </tr>\n",
       "    <tr>\n",
       "      <th>JP Morgan</th>\n",
       "      <td>0.026916</td>\n",
       "      <td>0.801299</td>\n",
       "      <td>0.078446</td>\n",
       "    </tr>\n",
       "    <tr>\n",
       "      <th>Barclays</th>\n",
       "      <td>NaN</td>\n",
       "      <td>0.158395</td>\n",
       "      <td>1.530799</td>\n",
       "    </tr>\n",
       "  </tbody>\n",
       "</table>\n",
       "</div>"
      ],
      "text/plain": [
       "To Grade                Buy      Hold      Sell\n",
       "Firm                                           \n",
       "Goldman Sachs      3.208260  0.622700  1.474040\n",
       "Canaccord Genuity  2.400359 -0.118172       NaN\n",
       "Jefferies          1.524411 -0.141691       NaN\n",
       "Morgan Stanley     1.304663  0.518896       NaN\n",
       "Baird              0.446831  0.206576       NaN\n",
       "Wedbush            0.411150  1.177491       NaN\n",
       "Deutsche Bank      0.370181  0.844583       NaN\n",
       "Credit Suisse      0.204717       NaN       NaN\n",
       "JP Morgan          0.026916  0.801299  0.078446\n",
       "Barclays                NaN  0.158395  1.530799"
      ]
     },
     "execution_count": 26,
     "metadata": {},
     "output_type": "execute_result"
    }
   ],
   "source": [
    "return_pivot_360 = return_gp.pivot(index = 'Firm',columns = 'To Grade',values = '360 day return')\n",
    "return_pivot_360.sort_values(by= 'Buy',ascending = False,inplace=True)\n",
    "return_pivot_360"
   ]
  },
  {
   "cell_type": "markdown",
   "metadata": {},
   "source": [
    "### Canaccord Genuity is the best performer on Buy Recos for both 180 and 360 time frames. This is likely biased due to them being one of two firms to actually give buy recos during the recent price surge\n",
    "\n",
    "\n",
    "#### Later on we will break up reco performance into time intervals to avoid such biases"
   ]
  },
  {
   "cell_type": "code",
   "execution_count": 27,
   "metadata": {},
   "outputs": [
    {
     "data": {
      "text/html": [
       "<div>\n",
       "<style scoped>\n",
       "    .dataframe tbody tr th:only-of-type {\n",
       "        vertical-align: middle;\n",
       "    }\n",
       "\n",
       "    .dataframe tbody tr th {\n",
       "        vertical-align: top;\n",
       "    }\n",
       "\n",
       "    .dataframe thead th {\n",
       "        text-align: right;\n",
       "    }\n",
       "</style>\n",
       "<table border=\"1\" class=\"dataframe\">\n",
       "  <thead>\n",
       "    <tr style=\"text-align: right;\">\n",
       "      <th></th>\n",
       "      <th>To Grade</th>\n",
       "      <th>Firm</th>\n",
       "      <th>variable</th>\n",
       "      <th>value</th>\n",
       "    </tr>\n",
       "  </thead>\n",
       "  <tbody>\n",
       "    <tr>\n",
       "      <th>0</th>\n",
       "      <td>Buy</td>\n",
       "      <td>Baird</td>\n",
       "      <td>30 day return</td>\n",
       "      <td>0.078168</td>\n",
       "    </tr>\n",
       "    <tr>\n",
       "      <th>1</th>\n",
       "      <td>Buy</td>\n",
       "      <td>Canaccord Genuity</td>\n",
       "      <td>30 day return</td>\n",
       "      <td>0.053976</td>\n",
       "    </tr>\n",
       "    <tr>\n",
       "      <th>2</th>\n",
       "      <td>Buy</td>\n",
       "      <td>Credit Suisse</td>\n",
       "      <td>30 day return</td>\n",
       "      <td>0.062240</td>\n",
       "    </tr>\n",
       "    <tr>\n",
       "      <th>3</th>\n",
       "      <td>Buy</td>\n",
       "      <td>Deutsche Bank</td>\n",
       "      <td>30 day return</td>\n",
       "      <td>0.096808</td>\n",
       "    </tr>\n",
       "    <tr>\n",
       "      <th>4</th>\n",
       "      <td>Buy</td>\n",
       "      <td>Goldman Sachs</td>\n",
       "      <td>30 day return</td>\n",
       "      <td>0.005843</td>\n",
       "    </tr>\n",
       "  </tbody>\n",
       "</table>\n",
       "</div>"
      ],
      "text/plain": [
       "  To Grade               Firm       variable     value\n",
       "0      Buy              Baird  30 day return  0.078168\n",
       "1      Buy  Canaccord Genuity  30 day return  0.053976\n",
       "2      Buy      Credit Suisse  30 day return  0.062240\n",
       "3      Buy      Deutsche Bank  30 day return  0.096808\n",
       "4      Buy      Goldman Sachs  30 day return  0.005843"
      ]
     },
     "execution_count": 27,
     "metadata": {},
     "output_type": "execute_result"
    }
   ],
   "source": [
    "#Need to format df so that it can be used in a boxplot\n",
    "return_melt = return_gp.melt(id_vars=['To Grade','Firm'])\n",
    "return_melt.head()"
   ]
  },
  {
   "cell_type": "code",
   "execution_count": 28,
   "metadata": {},
   "outputs": [
    {
     "data": {
      "text/plain": [
       "Text(0.5, 0, 'Return Window')"
      ]
     },
     "execution_count": 28,
     "metadata": {},
     "output_type": "execute_result"
    },
    {
     "data": {
      "image/png": "[encoded data removed]",
      "text/plain": [
       "<Figure size 1080x576 with 1 Axes>"
      ]
     },
     "metadata": {},
     "output_type": "display_data"
    }
   ],
   "source": [
    "plt.figure(figsize = (15,8))\n",
    "sns.boxplot(x='variable',y = 'value', hue = 'To Grade',data = return_melt)\n",
    "plt.title('Percent Return by Reco Time Period')\n",
    "plt.ylabel('Percent Return')\n",
    "plt.xlabel('Return Window')"
   ]
  },
  {
   "cell_type": "markdown",
   "metadata": {},
   "source": [
    "### It is evident that most analysts have no idea what is going on with Tesla. The percent return after a Sell reco has the highest median return across all time periods.\n",
    "\n",
    "### Moreover, the interquartile range for Sell is more favourable than buy for all time periods except 360 days."
   ]
  },
  {
   "cell_type": "code",
   "execution_count": null,
   "metadata": {},
   "outputs": [],
   "source": []
  }
 ],
 "metadata": {
  "kernelspec": {
   "display_name": "Python 3",
   "language": "python",
   "name": "python3"
  },
  "language_info": {
   "codemirror_mode": {
    "name": "ipython",
    "version": 3
   },
   "file_extension": ".py",
   "mimetype": "text/x-python",
   "name": "python",
   "nbconvert_exporter": "python",
   "pygments_lexer": "ipython3",
   "version": "3.7.6"
  }
 },
 "nbformat": 4,
 "nbformat_minor": 4
}
