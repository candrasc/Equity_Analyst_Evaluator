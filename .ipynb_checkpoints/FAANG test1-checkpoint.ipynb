{
 "cells": [
  {
   "cell_type": "code",
   "execution_count": 74,
   "metadata": {},
   "outputs": [],
   "source": [
    "from yahoofinancials import YahooFinancials\n",
    "import pandas as pd\n",
    "import seaborn as sns"
   ]
  },
  {
   "cell_type": "code",
   "execution_count": 84,
   "metadata": {},
   "outputs": [
    {
     "data": {
      "text/html": [
       "<div>\n",
       "<style scoped>\n",
       "    .dataframe tbody tr th:only-of-type {\n",
       "        vertical-align: middle;\n",
       "    }\n",
       "\n",
       "    .dataframe tbody tr th {\n",
       "        vertical-align: top;\n",
       "    }\n",
       "\n",
       "    .dataframe thead th {\n",
       "        text-align: right;\n",
       "    }\n",
       "</style>\n",
       "<table border=\"1\" class=\"dataframe\">\n",
       "  <thead>\n",
       "    <tr style=\"text-align: right;\">\n",
       "      <th></th>\n",
       "      <th>F</th>\n",
       "      <th>AMZN</th>\n",
       "      <th>AAPL</th>\n",
       "      <th>NFLX</th>\n",
       "      <th>GOOG</th>\n",
       "    </tr>\n",
       "  </thead>\n",
       "  <tbody>\n",
       "    <tr>\n",
       "      <th>2019-01-01</th>\n",
       "      <td>7.643884</td>\n",
       "      <td>1629.510010</td>\n",
       "      <td>145.002686</td>\n",
       "      <td>315.339996</td>\n",
       "      <td>1068.390015</td>\n",
       "    </tr>\n",
       "    <tr>\n",
       "      <th>2019-01-08</th>\n",
       "      <td>8.289328</td>\n",
       "      <td>1617.209961</td>\n",
       "      <td>147.031708</td>\n",
       "      <td>332.940002</td>\n",
       "      <td>1044.689941</td>\n",
       "    </tr>\n",
       "    <tr>\n",
       "      <th>2019-01-15</th>\n",
       "      <td>7.911282</td>\n",
       "      <td>1696.199951</td>\n",
       "      <td>153.716751</td>\n",
       "      <td>339.100006</td>\n",
       "      <td>1098.260010</td>\n",
       "    </tr>\n",
       "    <tr>\n",
       "      <th>2019-01-22</th>\n",
       "      <td>7.985046</td>\n",
       "      <td>1637.890015</td>\n",
       "      <td>153.207047</td>\n",
       "      <td>335.660004</td>\n",
       "      <td>1070.079956</td>\n",
       "    </tr>\n",
       "    <tr>\n",
       "      <th>2019-01-29</th>\n",
       "      <td>8.021929</td>\n",
       "      <td>1633.310059</td>\n",
       "      <td>167.861191</td>\n",
       "      <td>351.339996</td>\n",
       "      <td>1132.800049</td>\n",
       "    </tr>\n",
       "  </tbody>\n",
       "</table>\n",
       "</div>"
      ],
      "text/plain": [
       "                   F         AMZN        AAPL        NFLX         GOOG\n",
       "2019-01-01  7.643884  1629.510010  145.002686  315.339996  1068.390015\n",
       "2019-01-08  8.289328  1617.209961  147.031708  332.940002  1044.689941\n",
       "2019-01-15  7.911282  1696.199951  153.716751  339.100006  1098.260010\n",
       "2019-01-22  7.985046  1637.890015  153.207047  335.660004  1070.079956\n",
       "2019-01-29  8.021929  1633.310059  167.861191  351.339996  1132.800049"
      ]
     },
     "execution_count": 84,
     "metadata": {},
     "output_type": "execute_result"
    }
   ],
   "source": [
    "# Credit to https://towardsdatascience.com/a-comprehensive-guide-to-downloading-stock-prices-in-python-2cd93ff821d4\n",
    "assets = ['F','AMZN','AAPL', 'NFLX','GOOG']\n",
    "\n",
    "yahoo_financials = YahooFinancials(assets)\n",
    "\n",
    "data = yahoo_financials.get_historical_price_data(start_date='2019-01-01', \n",
    "                                                  end_date='2019-12-31', \n",
    "                                                  time_interval='weekly')\n",
    "\n",
    "prices_df = pd.DataFrame({\n",
    "    a: {x['formatted_date']: x['adjclose'] for x in data[a]['prices']} for a in assets})\n",
    "\n",
    "prices_df.head()"
   ]
  },
  {
   "cell_type": "code",
   "execution_count": 87,
   "metadata": {},
   "outputs": [
    {
     "data": {
      "text/plain": [
       "<matplotlib.axes._subplots.AxesSubplot at 0x14e1725d688>"
      ]
     },
     "execution_count": 87,
     "metadata": {},
     "output_type": "execute_result"
    },
    {
     "data": {
      "image/png": "[encoded data removed]",
      "text/plain": [
       "<Figure size 432x288 with 2 Axes>"
      ]
     },
     "metadata": {
      "needs_background": "light"
     },
     "output_type": "display_data"
    }
   ],
   "source": [
    "sns.heatmap(prices_df.corr(), center=0, annot=True)"
   ]
  },
  {
   "cell_type": "code",
   "execution_count": 70,
   "metadata": {},
   "outputs": [
    {
     "data": {
      "text/html": [
       "<div>\n",
       "<style scoped>\n",
       "    .dataframe tbody tr th:only-of-type {\n",
       "        vertical-align: middle;\n",
       "    }\n",
       "\n",
       "    .dataframe tbody tr th {\n",
       "        vertical-align: top;\n",
       "    }\n",
       "\n",
       "    .dataframe thead th {\n",
       "        text-align: right;\n",
       "    }\n",
       "</style>\n",
       "<table border=\"1\" class=\"dataframe\">\n",
       "  <thead>\n",
       "    <tr style=\"text-align: right;\">\n",
       "      <th></th>\n",
       "      <th>high</th>\n",
       "      <th>low</th>\n",
       "      <th>open</th>\n",
       "      <th>close</th>\n",
       "      <th>volume</th>\n",
       "      <th>adjclose</th>\n",
       "    </tr>\n",
       "    <tr>\n",
       "      <th>formatted_date</th>\n",
       "      <th></th>\n",
       "      <th></th>\n",
       "      <th></th>\n",
       "      <th></th>\n",
       "      <th></th>\n",
       "      <th></th>\n",
       "    </tr>\n",
       "  </thead>\n",
       "  <tbody>\n",
       "    <tr>\n",
       "      <th>2010-06-28</th>\n",
       "      <td>30.42</td>\n",
       "      <td>17.540001</td>\n",
       "      <td>19.000000</td>\n",
       "      <td>19.200001</td>\n",
       "      <td>49312000</td>\n",
       "      <td>19.200001</td>\n",
       "    </tr>\n",
       "    <tr>\n",
       "      <th>2010-07-05</th>\n",
       "      <td>20.00</td>\n",
       "      <td>14.980000</td>\n",
       "      <td>20.000000</td>\n",
       "      <td>17.400000</td>\n",
       "      <td>25550600</td>\n",
       "      <td>17.400000</td>\n",
       "    </tr>\n",
       "    <tr>\n",
       "      <th>2010-07-12</th>\n",
       "      <td>21.50</td>\n",
       "      <td>16.900000</td>\n",
       "      <td>17.950001</td>\n",
       "      <td>20.639999</td>\n",
       "      <td>15438900</td>\n",
       "      <td>20.639999</td>\n",
       "    </tr>\n",
       "    <tr>\n",
       "      <th>2010-07-19</th>\n",
       "      <td>22.25</td>\n",
       "      <td>19.500000</td>\n",
       "      <td>21.370001</td>\n",
       "      <td>21.290001</td>\n",
       "      <td>7175700</td>\n",
       "      <td>21.290001</td>\n",
       "    </tr>\n",
       "    <tr>\n",
       "      <th>2010-07-26</th>\n",
       "      <td>21.50</td>\n",
       "      <td>19.549999</td>\n",
       "      <td>21.500000</td>\n",
       "      <td>19.940001</td>\n",
       "      <td>3052000</td>\n",
       "      <td>19.940001</td>\n",
       "    </tr>\n",
       "  </tbody>\n",
       "</table>\n",
       "</div>"
      ],
      "text/plain": [
       "                 high        low       open      close    volume   adjclose\n",
       "formatted_date                                                             \n",
       "2010-06-28      30.42  17.540001  19.000000  19.200001  49312000  19.200001\n",
       "2010-07-05      20.00  14.980000  20.000000  17.400000  25550600  17.400000\n",
       "2010-07-12      21.50  16.900000  17.950001  20.639999  15438900  20.639999\n",
       "2010-07-19      22.25  19.500000  21.370001  21.290001   7175700  21.290001\n",
       "2010-07-26      21.50  19.549999  21.500000  19.940001   3052000  19.940001"
      ]
     },
     "execution_count": 70,
     "metadata": {},
     "output_type": "execute_result"
    }
   ],
   "source": [
    "yahoo_financials = YahooFinancials('TSLA')\n",
    "\n",
    "data = yahoo_financials.get_historical_price_data(start_date='2000-01-01', \n",
    "                                                  end_date='2019-12-31', \n",
    "                                                  time_interval='weekly')\n",
    "\n",
    "tsla_df = pd.DataFrame(data['TSLA']['prices'])\n",
    "tsla_df = tsla_df.drop('date', axis=1).set_index('formatted_date')\n",
    "tsla_df.head()"
   ]
  },
  {
   "cell_type": "code",
   "execution_count": 88,
   "metadata": {},
   "outputs": [
    {
     "data": {
      "text/html": [
       "<div>\n",
       "<style scoped>\n",
       "    .dataframe tbody tr th:only-of-type {\n",
       "        vertical-align: middle;\n",
       "    }\n",
       "\n",
       "    .dataframe tbody tr th {\n",
       "        vertical-align: top;\n",
       "    }\n",
       "\n",
       "    .dataframe thead th {\n",
       "        text-align: right;\n",
       "    }\n",
       "</style>\n",
       "<table border=\"1\" class=\"dataframe\">\n",
       "  <thead>\n",
       "    <tr style=\"text-align: right;\">\n",
       "      <th></th>\n",
       "      <th>high</th>\n",
       "      <th>low</th>\n",
       "      <th>open</th>\n",
       "      <th>close</th>\n",
       "      <th>volume</th>\n",
       "      <th>adjclose</th>\n",
       "    </tr>\n",
       "    <tr>\n",
       "      <th>formatted_date</th>\n",
       "      <th></th>\n",
       "      <th></th>\n",
       "      <th></th>\n",
       "      <th></th>\n",
       "      <th></th>\n",
       "      <th></th>\n",
       "    </tr>\n",
       "  </thead>\n",
       "  <tbody>\n",
       "  </tbody>\n",
       "</table>\n",
       "</div>"
      ],
      "text/plain": [
       "Empty DataFrame\n",
       "Columns: [high, low, open, close, volume, adjclose]\n",
       "Index: []"
      ]
     },
     "execution_count": 88,
     "metadata": {},
     "output_type": "execute_result"
    }
   ],
   "source": [
    "tsla_df.loc[tsla_df['adjclose']!=tsla_df['close']]\n",
    "#adjusted close is always the same as close, so we'll drop"
   ]
  },
  {
   "cell_type": "code",
   "execution_count": 91,
   "metadata": {},
   "outputs": [],
   "source": [
    "tsla_df.drop(columns = 'adjclose', inplace = True)"
   ]
  },
  {
   "cell_type": "code",
   "execution_count": null,
   "metadata": {},
   "outputs": [],
   "source": []
  }
 ],
 "metadata": {
  "kernelspec": {
   "display_name": "Python 3",
   "language": "python",
   "name": "python3"
  },
  "language_info": {
   "codemirror_mode": {
    "name": "ipython",
    "version": 3
   },
   "file_extension": ".py",
   "mimetype": "text/x-python",
   "name": "python",
   "nbconvert_exporter": "python",
   "pygments_lexer": "ipython3",
   "version": "3.7.6"
  }
 },
 "nbformat": 4,
 "nbformat_minor": 4
}
