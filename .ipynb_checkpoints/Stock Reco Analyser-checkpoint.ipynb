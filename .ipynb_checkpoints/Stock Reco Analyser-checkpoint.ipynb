{
 "cells": [
  {
   "cell_type": "code",
   "execution_count": 45,
   "metadata": {},
   "outputs": [],
   "source": [
    "import yfinance as yf\n",
    "import numpy as np\n",
    "import pandas as pd\n",
    "import matplotlib.pyplot as plt\n",
    "import seaborn as sns"
   ]
  },
  {
   "cell_type": "markdown",
   "metadata": {},
   "source": [
    "### Unfortunatley, YFinance does not provide the recommendations for all publicly traded companies.\n",
    "### However, tech stocks and other large cap companies often work"
   ]
  },
  {
   "cell_type": "code",
   "execution_count": 46,
   "metadata": {},
   "outputs": [],
   "source": [
    "#Change this variable to the ticker you are interested in analyzing (FAANG stocks work well and so do other large cap corps)\n",
    "symbol = \"NVDA\"\n",
    "ticker = yf.Ticker(symbol)"
   ]
  },
  {
   "cell_type": "code",
   "execution_count": 47,
   "metadata": {},
   "outputs": [
    {
     "data": {
      "text/plain": [
       "Buy                  115\n",
       "Outperform            45\n",
       "Hold                  31\n",
       "Overweight            28\n",
       "Neutral               21\n",
       "Equal-Weight          17\n",
       "Market Perform        12\n",
       "Underperform           9\n",
       "Underweight            8\n",
       "Positive               6\n",
       "Reduce                 4\n",
       "Sell                   2\n",
       "Strong Buy             1\n",
       "Sector Perform         1\n",
       "Sector Weight          1\n",
       "Market Outperform      1\n",
       "Negative               1\n",
       "Perform                1\n",
       "Equal-weight           1\n",
       "Name: To Grade, dtype: int64"
      ]
     },
     "execution_count": 47,
     "metadata": {},
     "output_type": "execute_result"
    }
   ],
   "source": [
    "#Look at all reco types before we format them\n",
    "df_base = ticker.recommendations.reset_index()\n",
    "df = df_base.copy()\n",
    "df['To Grade'].value_counts()"
   ]
  },
  {
   "cell_type": "code",
   "execution_count": 48,
   "metadata": {},
   "outputs": [],
   "source": [
    "import datetime as dt\n",
    "df['Date'] = df['Date'].dt.floor('D') # Remove seconds"
   ]
  },
  {
   "cell_type": "code",
   "execution_count": 49,
   "metadata": {},
   "outputs": [],
   "source": [
    "df['To Grade'] = np.where((df['To Grade'].isin(['Outperform','Overweight','Positive','Market Outperform','Strong Buy'])),(\n",
    "'Buy'),df['To Grade']) #Changing terms to Buy"
   ]
  },
  {
   "cell_type": "code",
   "execution_count": 50,
   "metadata": {},
   "outputs": [],
   "source": [
    "df['To Grade'] = np.where((df['To Grade'].isin(['Neutral','Market Perform','Equal-Weight', 'Sector Perform','Perform','Equal-weight',\n",
    "                                               'In-Line','Peer Perform','Sector Weight'])),\n",
    "                          'Hold',df['To Grade']) #Changing terms to Hold"
   ]
  },
  {
   "cell_type": "code",
   "execution_count": 51,
   "metadata": {},
   "outputs": [],
   "source": [
    "df['To Grade'] = np.where((df['To Grade'].isin(['Underperform','Underweight','Reduce','Negative'])),\n",
    "'Sell',df['To Grade']) #Changing terms to Sell"
   ]
  },
  {
   "cell_type": "code",
   "execution_count": 52,
   "metadata": {},
   "outputs": [
    {
     "data": {
      "text/plain": [
       "Buy     196\n",
       "Hold     85\n",
       "Sell     24\n",
       "Name: To Grade, dtype: int64"
      ]
     },
     "execution_count": 52,
     "metadata": {},
     "output_type": "execute_result"
    }
   ],
   "source": [
    "df['To Grade'].value_counts()\n",
    "#Check to make sure there aren't any significant reco types that we forgot to convert"
   ]
  },
  {
   "cell_type": "code",
   "execution_count": 53,
   "metadata": {},
   "outputs": [],
   "source": [
    "#Remove any values that are not buy/sell/hold\n",
    "df = df.loc[(df['To Grade'] == 'Hold')|(df['To Grade']=='Buy')|(df['To Grade']=='Sell')].copy()"
   ]
  },
  {
   "cell_type": "code",
   "execution_count": 54,
   "metadata": {},
   "outputs": [],
   "source": [
    "prices = yf.download(symbol,interval = '1d', progress=False)"
   ]
  },
  {
   "cell_type": "markdown",
   "metadata": {},
   "source": [
    "### Create dfs for upcoming line/scatter plot"
   ]
  },
  {
   "cell_type": "code",
   "execution_count": 55,
   "metadata": {},
   "outputs": [],
   "source": [
    "df_buy = df.loc[df['To Grade']=='Buy']\n",
    "df_sell = df.loc[df['To Grade']=='Sell']"
   ]
  },
  {
   "cell_type": "code",
   "execution_count": 56,
   "metadata": {},
   "outputs": [],
   "source": [
    "#get buy and sell in prices df so we can scatter plot them on the price plot\n",
    "plot_buy = prices.merge(df_buy,on='Date', how = 'left')\n",
    "plot_sell = prices.merge(df_sell,on='Date', how = 'left')"
   ]
  },
  {
   "cell_type": "code",
   "execution_count": 57,
   "metadata": {},
   "outputs": [],
   "source": [
    "plot_buy = plot_buy.loc[plot_buy['To Grade']=='Buy']\n",
    "plot_sell = plot_sell.loc[plot_sell['To Grade']=='Sell']"
   ]
  },
  {
   "cell_type": "code",
   "execution_count": 58,
   "metadata": {},
   "outputs": [],
   "source": [
    "prices = prices.reset_index()"
   ]
  },
  {
   "cell_type": "code",
   "execution_count": 59,
   "metadata": {},
   "outputs": [],
   "source": [
    "df1 = prices.merge(df, on='Date',how='left')\n",
    "df1.drop(columns = ['Open','High','Low','Close','Volume','From Grade'],inplace= True)"
   ]
  },
  {
   "cell_type": "markdown",
   "metadata": {},
   "source": [
    "### Calculating percent return after different time periods"
   ]
  },
  {
   "cell_type": "code",
   "execution_count": 60,
   "metadata": {},
   "outputs": [],
   "source": [
    "dt_adj = 261/365 #use to adjust our desired windows as US has 261 working days a year\n",
    "time_periods = [30,60,180,360,360*2,360*3,360*5]\n",
    "\n",
    "for period in time_periods:\n",
    "    df1['{} day return'.format(period)] = df1.loc[:,'Adj Close'].pct_change(periods = int(dt_adj*period))\n"
   ]
  },
  {
   "cell_type": "code",
   "execution_count": 61,
   "metadata": {},
   "outputs": [],
   "source": [
    "#Shifting the df columns back so that the future return is on the day the reco was made\n",
    "\n",
    "for period in time_periods:\n",
    "    df1['{} day return'.format(period)] = df1['{} day return'.format(period)].shift(-int(dt_adj*30))\n",
    "\n",
    "df1.rename(columns = {'720 day return':'2 year return',\\\n",
    "                     '1080 day return':'3 year return',\\\n",
    "                     '1800 day return':'5 year return'}, inplace = True)"
   ]
  },
  {
   "cell_type": "code",
   "execution_count": 62,
   "metadata": {},
   "outputs": [
    {
     "data": {
      "text/html": [
       "<div>\n",
       "<style scoped>\n",
       "    .dataframe tbody tr th:only-of-type {\n",
       "        vertical-align: middle;\n",
       "    }\n",
       "\n",
       "    .dataframe tbody tr th {\n",
       "        vertical-align: top;\n",
       "    }\n",
       "\n",
       "    .dataframe thead th {\n",
       "        text-align: right;\n",
       "    }\n",
       "</style>\n",
       "<table border=\"1\" class=\"dataframe\">\n",
       "  <thead>\n",
       "    <tr style=\"text-align: right;\">\n",
       "      <th></th>\n",
       "      <th>Date</th>\n",
       "      <th>Adj Close</th>\n",
       "      <th>Firm</th>\n",
       "      <th>To Grade</th>\n",
       "      <th>Action</th>\n",
       "      <th>30 day return</th>\n",
       "      <th>60 day return</th>\n",
       "      <th>180 day return</th>\n",
       "      <th>360 day return</th>\n",
       "      <th>2 year return</th>\n",
       "      <th>3 year return</th>\n",
       "      <th>5 year return</th>\n",
       "    </tr>\n",
       "  </thead>\n",
       "  <tbody>\n",
       "    <tr>\n",
       "      <th>0</th>\n",
       "      <td>1999-01-22</td>\n",
       "      <td>1.508857</td>\n",
       "      <td>NaN</td>\n",
       "      <td>NaN</td>\n",
       "      <td>NaN</td>\n",
       "      <td>0.117460</td>\n",
       "      <td>NaN</td>\n",
       "      <td>NaN</td>\n",
       "      <td>NaN</td>\n",
       "      <td>NaN</td>\n",
       "      <td>NaN</td>\n",
       "      <td>NaN</td>\n",
       "    </tr>\n",
       "    <tr>\n",
       "      <th>1</th>\n",
       "      <td>1999-01-25</td>\n",
       "      <td>1.666928</td>\n",
       "      <td>NaN</td>\n",
       "      <td>NaN</td>\n",
       "      <td>NaN</td>\n",
       "      <td>0.091954</td>\n",
       "      <td>NaN</td>\n",
       "      <td>NaN</td>\n",
       "      <td>NaN</td>\n",
       "      <td>NaN</td>\n",
       "      <td>NaN</td>\n",
       "      <td>NaN</td>\n",
       "    </tr>\n",
       "    <tr>\n",
       "      <th>2</th>\n",
       "      <td>1999-01-26</td>\n",
       "      <td>1.537597</td>\n",
       "      <td>NaN</td>\n",
       "      <td>NaN</td>\n",
       "      <td>NaN</td>\n",
       "      <td>0.146418</td>\n",
       "      <td>NaN</td>\n",
       "      <td>NaN</td>\n",
       "      <td>NaN</td>\n",
       "      <td>NaN</td>\n",
       "      <td>NaN</td>\n",
       "      <td>NaN</td>\n",
       "    </tr>\n",
       "    <tr>\n",
       "      <th>3</th>\n",
       "      <td>1999-01-27</td>\n",
       "      <td>1.532807</td>\n",
       "      <td>NaN</td>\n",
       "      <td>NaN</td>\n",
       "      <td>NaN</td>\n",
       "      <td>0.096875</td>\n",
       "      <td>NaN</td>\n",
       "      <td>NaN</td>\n",
       "      <td>NaN</td>\n",
       "      <td>NaN</td>\n",
       "      <td>NaN</td>\n",
       "      <td>NaN</td>\n",
       "    </tr>\n",
       "    <tr>\n",
       "      <th>4</th>\n",
       "      <td>1999-01-28</td>\n",
       "      <td>1.528017</td>\n",
       "      <td>NaN</td>\n",
       "      <td>NaN</td>\n",
       "      <td>NaN</td>\n",
       "      <td>0.106583</td>\n",
       "      <td>NaN</td>\n",
       "      <td>NaN</td>\n",
       "      <td>NaN</td>\n",
       "      <td>NaN</td>\n",
       "      <td>NaN</td>\n",
       "      <td>NaN</td>\n",
       "    </tr>\n",
       "    <tr>\n",
       "      <th>...</th>\n",
       "      <td>...</td>\n",
       "      <td>...</td>\n",
       "      <td>...</td>\n",
       "      <td>...</td>\n",
       "      <td>...</td>\n",
       "      <td>...</td>\n",
       "      <td>...</td>\n",
       "      <td>...</td>\n",
       "      <td>...</td>\n",
       "      <td>...</td>\n",
       "      <td>...</td>\n",
       "      <td>...</td>\n",
       "    </tr>\n",
       "    <tr>\n",
       "      <th>5595</th>\n",
       "      <td>2020-10-06</td>\n",
       "      <td>549.460022</td>\n",
       "      <td>BMO Capital</td>\n",
       "      <td>Buy</td>\n",
       "      <td>main</td>\n",
       "      <td>NaN</td>\n",
       "      <td>NaN</td>\n",
       "      <td>NaN</td>\n",
       "      <td>NaN</td>\n",
       "      <td>NaN</td>\n",
       "      <td>NaN</td>\n",
       "      <td>NaN</td>\n",
       "    </tr>\n",
       "    <tr>\n",
       "      <th>5596</th>\n",
       "      <td>2020-10-06</td>\n",
       "      <td>549.460022</td>\n",
       "      <td>JP Morgan</td>\n",
       "      <td>Buy</td>\n",
       "      <td>main</td>\n",
       "      <td>NaN</td>\n",
       "      <td>NaN</td>\n",
       "      <td>NaN</td>\n",
       "      <td>NaN</td>\n",
       "      <td>NaN</td>\n",
       "      <td>NaN</td>\n",
       "      <td>NaN</td>\n",
       "    </tr>\n",
       "    <tr>\n",
       "      <th>5597</th>\n",
       "      <td>2020-10-07</td>\n",
       "      <td>558.559998</td>\n",
       "      <td>NaN</td>\n",
       "      <td>NaN</td>\n",
       "      <td>NaN</td>\n",
       "      <td>NaN</td>\n",
       "      <td>NaN</td>\n",
       "      <td>NaN</td>\n",
       "      <td>NaN</td>\n",
       "      <td>NaN</td>\n",
       "      <td>NaN</td>\n",
       "      <td>NaN</td>\n",
       "    </tr>\n",
       "    <tr>\n",
       "      <th>5598</th>\n",
       "      <td>2020-10-08</td>\n",
       "      <td>553.549988</td>\n",
       "      <td>NaN</td>\n",
       "      <td>NaN</td>\n",
       "      <td>NaN</td>\n",
       "      <td>NaN</td>\n",
       "      <td>NaN</td>\n",
       "      <td>NaN</td>\n",
       "      <td>NaN</td>\n",
       "      <td>NaN</td>\n",
       "      <td>NaN</td>\n",
       "      <td>NaN</td>\n",
       "    </tr>\n",
       "    <tr>\n",
       "      <th>5599</th>\n",
       "      <td>2020-10-09</td>\n",
       "      <td>550.510010</td>\n",
       "      <td>NaN</td>\n",
       "      <td>NaN</td>\n",
       "      <td>NaN</td>\n",
       "      <td>NaN</td>\n",
       "      <td>NaN</td>\n",
       "      <td>NaN</td>\n",
       "      <td>NaN</td>\n",
       "      <td>NaN</td>\n",
       "      <td>NaN</td>\n",
       "      <td>NaN</td>\n",
       "    </tr>\n",
       "  </tbody>\n",
       "</table>\n",
       "<p>5600 rows × 12 columns</p>\n",
       "</div>"
      ],
      "text/plain": [
       "           Date   Adj Close         Firm To Grade Action  30 day return  \\\n",
       "0    1999-01-22    1.508857          NaN      NaN    NaN       0.117460   \n",
       "1    1999-01-25    1.666928          NaN      NaN    NaN       0.091954   \n",
       "2    1999-01-26    1.537597          NaN      NaN    NaN       0.146418   \n",
       "3    1999-01-27    1.532807          NaN      NaN    NaN       0.096875   \n",
       "4    1999-01-28    1.528017          NaN      NaN    NaN       0.106583   \n",
       "...         ...         ...          ...      ...    ...            ...   \n",
       "5595 2020-10-06  549.460022  BMO Capital      Buy   main            NaN   \n",
       "5596 2020-10-06  549.460022    JP Morgan      Buy   main            NaN   \n",
       "5597 2020-10-07  558.559998          NaN      NaN    NaN            NaN   \n",
       "5598 2020-10-08  553.549988          NaN      NaN    NaN            NaN   \n",
       "5599 2020-10-09  550.510010          NaN      NaN    NaN            NaN   \n",
       "\n",
       "      60 day return  180 day return  360 day return  2 year return  \\\n",
       "0               NaN             NaN             NaN            NaN   \n",
       "1               NaN             NaN             NaN            NaN   \n",
       "2               NaN             NaN             NaN            NaN   \n",
       "3               NaN             NaN             NaN            NaN   \n",
       "4               NaN             NaN             NaN            NaN   \n",
       "...             ...             ...             ...            ...   \n",
       "5595            NaN             NaN             NaN            NaN   \n",
       "5596            NaN             NaN             NaN            NaN   \n",
       "5597            NaN             NaN             NaN            NaN   \n",
       "5598            NaN             NaN             NaN            NaN   \n",
       "5599            NaN             NaN             NaN            NaN   \n",
       "\n",
       "      3 year return  5 year return  \n",
       "0               NaN            NaN  \n",
       "1               NaN            NaN  \n",
       "2               NaN            NaN  \n",
       "3               NaN            NaN  \n",
       "4               NaN            NaN  \n",
       "...             ...            ...  \n",
       "5595            NaN            NaN  \n",
       "5596            NaN            NaN  \n",
       "5597            NaN            NaN  \n",
       "5598            NaN            NaN  \n",
       "5599            NaN            NaN  \n",
       "\n",
       "[5600 rows x 12 columns]"
      ]
     },
     "execution_count": 62,
     "metadata": {},
     "output_type": "execute_result"
    }
   ],
   "source": [
    "df1"
   ]
  },
  {
   "cell_type": "code",
   "execution_count": 63,
   "metadata": {},
   "outputs": [],
   "source": [
    "#Need to format df so that it can be used in a boxplot\n",
    "return_gp = df1.groupby(['To Grade','Firm']).mean().reset_index()\n",
    "return_gp.drop(columns = 'Adj Close',inplace=True)\n",
    "\n",
    "return_melt = return_gp.melt(id_vars=['To Grade','Firm'])\n",
    "return_melt_short = return_melt.loc[(return_melt['variable']=='30 day return')|\n",
    "                                    (return_melt['variable']=='90 day return')|\n",
    "                                    (return_melt['variable']=='180 day return')|\n",
    "                                    (return_melt['variable']=='360 day return')]\n",
    "\n",
    "return_melt_long = return_melt.loc[(return_melt['variable']=='2 year return')|\n",
    "                                    (return_melt['variable']=='3 year return')|\n",
    "                                   (return_melt['variable']=='5 year return')|\n",
    "                                    (return_melt['variable']=='360 day return')]"
   ]
  },
  {
   "cell_type": "markdown",
   "metadata": {},
   "source": [
    "### Uncomment and change the datemin and datemax variables to zoom in on certain dates"
   ]
  },
  {
   "cell_type": "code",
   "execution_count": 64,
   "metadata": {},
   "outputs": [
    {
     "data": {
      "image/png": "[encoded data removed]",
      "text/plain": [
       "<Figure size 1080x360 with 1 Axes>"
      ]
     },
     "metadata": {},
     "output_type": "display_data"
    }
   ],
   "source": [
    "fig = plt.figure(figsize = (15,5))\n",
    "plt.style.use('ggplot')\n",
    "\n",
    "#variables for plot to make tweaking easier\n",
    "line_alpha = 0.6\n",
    "marker_alpha = 1\n",
    "line_color = 'b'\n",
    "buy_color = 'g'\n",
    "sell_color = 'r'\n",
    "marker_s = 70\n",
    "\n",
    "ax = plt.subplot(1,1,1)\n",
    "plt.plot(prices.Date, prices['Adj Close'], color =line_color, alpha=line_alpha)\n",
    "plt.scatter(x = plot_buy.Date, y = plot_buy['Adj Close'], color = buy_color, marker = '^', label = 'Buy Reco',s=marker_s, alpha = marker_alpha)\n",
    "plt.scatter(x = plot_sell.Date, y = plot_sell['Adj Close'], color = sell_color, marker = 'v', label = 'Sell Reco',s=marker_s, alpha=marker_alpha)\n",
    "plt.title('{} Buy and Sell Recommendations'.format(symbol))\n",
    "plt.legend(loc=2)\n",
    "\n",
    "plt.show()\n",
    "#datemin = dt.date(2018, 7, 1)\n",
    "#datemax = dt.date(2020, 7, 24)\n",
    "#ax.set_xlim(datemin, datemax)"
   ]
  },
  {
   "cell_type": "code",
   "execution_count": 65,
   "metadata": {},
   "outputs": [
    {
     "name": "stderr",
     "output_type": "stream",
     "text": [
      "<ipython-input-65-7f1ff58b7bec>:12: UserWarning: FixedFormatter should only be used together with FixedLocator\n",
      "  ax.set_yticklabels(['{:3.0f}%'.format(x * 100) for x in y_vals])\n"
     ]
    },
    {
     "data": {
      "image/png": "[encoded data removed]",
      "text/plain": [
       "<Figure size 1080x360 with 1 Axes>"
      ]
     },
     "metadata": {},
     "output_type": "display_data"
    }
   ],
   "source": [
    "plt.figure(figsize = (15,5))\n",
    "\n",
    "\n",
    "ax = sns.boxplot(x='variable',y = 'value', hue = 'To Grade',data = return_melt_short)\n",
    "plt.title('{} Short Run Percent Return After Reco'.format(symbol))\n",
    "plt.ylabel('Percent Return')\n",
    "plt.xlabel('Return Window')\n",
    "plt.legend(loc = 2)\n",
    "\n",
    "#Format y ticks to percentage\n",
    "y_vals = ax.get_yticks()\n",
    "ax.set_yticklabels(['{:3.0f}%'.format(x * 100) for x in y_vals])\n",
    "\n",
    "plt.show()"
   ]
  },
  {
   "cell_type": "code",
   "execution_count": 66,
   "metadata": {},
   "outputs": [
    {
     "name": "stderr",
     "output_type": "stream",
     "text": [
      "<ipython-input-66-7db5ac7e3c9e>:10: UserWarning: FixedFormatter should only be used together with FixedLocator\n",
      "  ax.set_yticklabels(['{:3.0f}%'.format(x * 100) for x in y_vals])\n"
     ]
    },
    {
     "data": {
      "image/png": "[encoded data removed]",
      "text/plain": [
       "<Figure size 1080x360 with 1 Axes>"
      ]
     },
     "metadata": {},
     "output_type": "display_data"
    }
   ],
   "source": [
    "plt.figure(figsize = (15,5))\n",
    "ax = sns.boxplot(x='variable',y = 'value', hue = 'To Grade',data = return_melt_long)\n",
    "plt.title('{} Long Run Percent Return After Reco'.format(symbol))\n",
    "plt.ylabel('Percent Return')\n",
    "plt.xlabel('Return Window')\n",
    "plt.legend(loc = 2)\n",
    "\n",
    "#Format y ticks to percentage\n",
    "y_vals = ax.get_yticks()\n",
    "ax.set_yticklabels(['{:3.0f}%'.format(x * 100) for x in y_vals])\n",
    "\n",
    "plt.show()"
   ]
  },
  {
   "cell_type": "code",
   "execution_count": null,
   "metadata": {},
   "outputs": [],
   "source": []
  }
 ],
 "metadata": {
  "kernelspec": {
   "display_name": "Python 3",
   "language": "python",
   "name": "python3"
  },
  "language_info": {
   "codemirror_mode": {
    "name": "ipython",
    "version": 3
   },
   "file_extension": ".py",
   "mimetype": "text/x-python",
   "name": "python",
   "nbconvert_exporter": "python",
   "pygments_lexer": "ipython3",
   "version": "3.8.5"
  }
 },
 "nbformat": 4,
 "nbformat_minor": 4
}
