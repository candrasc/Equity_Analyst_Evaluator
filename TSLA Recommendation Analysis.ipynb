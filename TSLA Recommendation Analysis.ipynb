{
 "cells": [
  {
   "cell_type": "code",
   "execution_count": 32,
   "metadata": {},
   "outputs": [],
   "source": [
    "import yfinance as yf\n",
    "import numpy as np\n",
    "import pandas as pd\n",
    "import matplotlib.pyplot as plt"
   ]
  },
  {
   "cell_type": "code",
   "execution_count": 33,
   "metadata": {},
   "outputs": [],
   "source": [
    "tsla = yf.Ticker(\"TSLA\")"
   ]
  },
  {
   "cell_type": "code",
   "execution_count": 34,
   "metadata": {},
   "outputs": [
    {
     "data": {
      "text/html": [
       "<div>\n",
       "<style scoped>\n",
       "    .dataframe tbody tr th:only-of-type {\n",
       "        vertical-align: middle;\n",
       "    }\n",
       "\n",
       "    .dataframe tbody tr th {\n",
       "        vertical-align: top;\n",
       "    }\n",
       "\n",
       "    .dataframe thead th {\n",
       "        text-align: right;\n",
       "    }\n",
       "</style>\n",
       "<table border=\"1\" class=\"dataframe\">\n",
       "  <thead>\n",
       "    <tr style=\"text-align: right;\">\n",
       "      <th></th>\n",
       "      <th>Date</th>\n",
       "      <th>Firm</th>\n",
       "      <th>To Grade</th>\n",
       "      <th>From Grade</th>\n",
       "      <th>Action</th>\n",
       "    </tr>\n",
       "  </thead>\n",
       "  <tbody>\n",
       "    <tr>\n",
       "      <th>0</th>\n",
       "      <td>2012-02-16 07:42:00</td>\n",
       "      <td>JP Morgan</td>\n",
       "      <td>Overweight</td>\n",
       "      <td></td>\n",
       "      <td>main</td>\n",
       "    </tr>\n",
       "    <tr>\n",
       "      <th>1</th>\n",
       "      <td>2012-02-16 13:53:00</td>\n",
       "      <td>Wunderlich</td>\n",
       "      <td>Hold</td>\n",
       "      <td></td>\n",
       "      <td>down</td>\n",
       "    </tr>\n",
       "    <tr>\n",
       "      <th>2</th>\n",
       "      <td>2012-02-17 06:17:00</td>\n",
       "      <td>Oxen Group</td>\n",
       "      <td>Buy</td>\n",
       "      <td></td>\n",
       "      <td>init</td>\n",
       "    </tr>\n",
       "    <tr>\n",
       "      <th>3</th>\n",
       "      <td>2012-03-26 07:31:00</td>\n",
       "      <td>Wunderlich</td>\n",
       "      <td>Buy</td>\n",
       "      <td></td>\n",
       "      <td>up</td>\n",
       "    </tr>\n",
       "    <tr>\n",
       "      <th>4</th>\n",
       "      <td>2012-05-22 05:57:00</td>\n",
       "      <td>Maxim Group</td>\n",
       "      <td>Buy</td>\n",
       "      <td></td>\n",
       "      <td>init</td>\n",
       "    </tr>\n",
       "  </tbody>\n",
       "</table>\n",
       "</div>"
      ],
      "text/plain": [
       "                 Date         Firm    To Grade From Grade Action\n",
       "0 2012-02-16 07:42:00    JP Morgan  Overweight              main\n",
       "1 2012-02-16 13:53:00   Wunderlich        Hold              down\n",
       "2 2012-02-17 06:17:00   Oxen Group         Buy              init\n",
       "3 2012-03-26 07:31:00   Wunderlich         Buy                up\n",
       "4 2012-05-22 05:57:00  Maxim Group         Buy              init"
      ]
     },
     "execution_count": 34,
     "metadata": {},
     "output_type": "execute_result"
    }
   ],
   "source": [
    "df_base = tsla.recommendations.reset_index() #Alyways have original df to refer back to \n",
    "df = df_base.copy()\n",
    "df_base.head()"
   ]
  },
  {
   "cell_type": "code",
   "execution_count": 35,
   "metadata": {},
   "outputs": [
    {
     "data": {
      "text/plain": [
       "Neutral              56\n",
       "Buy                  46\n",
       "Outperform           34\n",
       "Hold                 28\n",
       "Underperform         28\n",
       "Sell                 25\n",
       "Underweight          22\n",
       "Overweight           22\n",
       "Equal-Weight         14\n",
       "Market Perform        6\n",
       "Market Outperform     6\n",
       "Sector Perform        4\n",
       "                      3\n",
       "Perform               1\n",
       "Peer Perform          1\n",
       "Sector Weight         1\n",
       "In-Line               1\n",
       "Underperformer        1\n",
       "Name: To Grade, dtype: int64"
      ]
     },
     "execution_count": 35,
     "metadata": {},
     "output_type": "execute_result"
    }
   ],
   "source": [
    "import datetime as dt\n",
    "df['Date'] = df['Date'].dt.floor('D') # Remove seconds\n",
    "df['To Grade'].value_counts()"
   ]
  },
  {
   "cell_type": "code",
   "execution_count": 36,
   "metadata": {},
   "outputs": [],
   "source": [
    "#A lot of these terms mean the same thing, so let's group them \n",
    "df['To Grade'] = np.where((df['To Grade']== 'Outperform')|(df['To Grade']== 'Overweight')| (df['To Grade']== 'Strong Buy'),(\n",
    "'Buy'),df['To Grade'])"
   ]
  },
  {
   "cell_type": "code",
   "execution_count": 37,
   "metadata": {},
   "outputs": [],
   "source": [
    "df['To Grade'] = np.where((df['To Grade']== 'Neutral')|(df['To Grade']== 'Market Perform')| (df['To Grade']== 'Equal-Weight'),(\n",
    "'Hold'),df['To Grade'])"
   ]
  },
  {
   "cell_type": "code",
   "execution_count": 38,
   "metadata": {},
   "outputs": [],
   "source": [
    "df['To Grade'] = np.where((df['To Grade']== 'Underweight')|(df['To Grade']== 'Underperform'),(\n",
    "'Sell'),df['To Grade'])"
   ]
  },
  {
   "cell_type": "code",
   "execution_count": 39,
   "metadata": {},
   "outputs": [
    {
     "data": {
      "text/plain": [
       "Hold                 104\n",
       "Buy                  102\n",
       "Sell                  75\n",
       "Market Outperform      6\n",
       "Sector Perform         4\n",
       "                       3\n",
       "In-Line                1\n",
       "Peer Perform           1\n",
       "Underperformer         1\n",
       "Sector Weight          1\n",
       "Perform                1\n",
       "Name: To Grade, dtype: int64"
      ]
     },
     "execution_count": 39,
     "metadata": {},
     "output_type": "execute_result"
    }
   ],
   "source": [
    "df['To Grade'].value_counts()"
   ]
  },
  {
   "cell_type": "code",
   "execution_count": 40,
   "metadata": {},
   "outputs": [],
   "source": [
    "df = df.loc[(df['To Grade'] == 'Hold')|(df['To Grade']=='Buy')|(df['To Grade']=='Sell')].copy()"
   ]
  },
  {
   "cell_type": "code",
   "execution_count": 41,
   "metadata": {},
   "outputs": [
    {
     "data": {
      "text/plain": [
       "Morgan Stanley              28\n",
       "Wedbush                     18\n",
       "Jefferies                   18\n",
       "JP Morgan                   16\n",
       "Baird                       15\n",
       "Goldman Sachs               15\n",
       "Deutsche Bank               15\n",
       "Canaccord Genuity           12\n",
       "Barclays                    11\n",
       "Credit Suisse               10\n",
       "UBS                          9\n",
       "Bank of America              8\n",
       "Standpoint Research          7\n",
       "RBC Capital                  7\n",
       "B of A Securities            6\n",
       "Citigroup                    6\n",
       "Piper Sandler                6\n",
       "Oppenheimer                  6\n",
       "Roth Capital                 5\n",
       "Stifel Nicolaus              4\n",
       "Cowen & Co.                  4\n",
       "Nomura                       4\n",
       "PiperJaffray                 3\n",
       "Pacific Crest                3\n",
       "Wunderlich                   3\n",
       "JMP Securities               3\n",
       "New Street                   3\n",
       "Argus Research               3\n",
       "S&P Capital IQ               2\n",
       "Argus                        2\n",
       "Exane BNP Paribas            2\n",
       "CLSA                         2\n",
       "Global Equities Research     2\n",
       "Evercore ISI Group           2\n",
       "Ascendiant Capital           1\n",
       "MLV & Co.                    1\n",
       "CFRA                         1\n",
       "Deutsche bank                1\n",
       "Maxim Group                  1\n",
       "Daiwa Capital                1\n",
       "ISI Group                    1\n",
       "Dougherty                    1\n",
       "Sterne Agee CRT              1\n",
       "Bernstein                    1\n",
       "Northland Securities         1\n",
       "China Renaissance            1\n",
       "FBN Securities               1\n",
       "FBR Capital                  1\n",
       "Oxen Group                   1\n",
       "Needham                      1\n",
       "Citi                         1\n",
       "Berenberg                    1\n",
       "Lazard                       1\n",
       "Vertical Group               1\n",
       "Tigress Financial            1\n",
       "Name: Firm, dtype: int64"
      ]
     },
     "execution_count": 41,
     "metadata": {},
     "output_type": "execute_result"
    }
   ],
   "source": [
    "df['Firm'].value_counts()"
   ]
  },
  {
   "cell_type": "code",
   "execution_count": 42,
   "metadata": {},
   "outputs": [
    {
     "data": {
      "text/plain": [
       "Morgan Stanley       28\n",
       "Jefferies            18\n",
       "Wedbush              18\n",
       "JP Morgan            16\n",
       "Deutsche Bank        15\n",
       "Baird                15\n",
       "Goldman Sachs        15\n",
       "Canaccord Genuity    12\n",
       "Barclays             11\n",
       "Credit Suisse        10\n",
       "Name: Firm, dtype: int64"
      ]
     },
     "execution_count": 42,
     "metadata": {},
     "output_type": "execute_result"
    }
   ],
   "source": [
    "#Let's only evaluate firms with at least 10 recommendations\n",
    "df = df.groupby(\"Firm\").filter(lambda x: len(x) > 9).copy()\n",
    "df['Firm'].value_counts()"
   ]
  },
  {
   "cell_type": "code",
   "execution_count": 43,
   "metadata": {},
   "outputs": [
    {
     "data": {
      "text/plain": [
       "main    116\n",
       "down     19\n",
       "up       14\n",
       "init      5\n",
       "reit      4\n",
       "Name: Action, dtype: int64"
      ]
     },
     "execution_count": 43,
     "metadata": {},
     "output_type": "execute_result"
    }
   ],
   "source": [
    "df['Action'].value_counts()"
   ]
  },
  {
   "cell_type": "code",
   "execution_count": 44,
   "metadata": {},
   "outputs": [
    {
     "data": {
      "text/html": [
       "<div>\n",
       "<style scoped>\n",
       "    .dataframe tbody tr th:only-of-type {\n",
       "        vertical-align: middle;\n",
       "    }\n",
       "\n",
       "    .dataframe tbody tr th {\n",
       "        vertical-align: top;\n",
       "    }\n",
       "\n",
       "    .dataframe thead th {\n",
       "        text-align: right;\n",
       "    }\n",
       "</style>\n",
       "<table border=\"1\" class=\"dataframe\">\n",
       "  <thead>\n",
       "    <tr style=\"text-align: right;\">\n",
       "      <th></th>\n",
       "      <th>Date</th>\n",
       "      <th>Firm</th>\n",
       "      <th>To Grade</th>\n",
       "      <th>From Grade</th>\n",
       "      <th>Action</th>\n",
       "    </tr>\n",
       "  </thead>\n",
       "  <tbody>\n",
       "    <tr>\n",
       "      <th>6</th>\n",
       "      <td>2012-09-17</td>\n",
       "      <td>Morgan Stanley</td>\n",
       "      <td>Buy</td>\n",
       "      <td>Neutral</td>\n",
       "      <td>up</td>\n",
       "    </tr>\n",
       "    <tr>\n",
       "      <th>19</th>\n",
       "      <td>2013-05-09</td>\n",
       "      <td>Goldman Sachs</td>\n",
       "      <td>Hold</td>\n",
       "      <td>Buy</td>\n",
       "      <td>down</td>\n",
       "    </tr>\n",
       "    <tr>\n",
       "      <th>31</th>\n",
       "      <td>2013-07-26</td>\n",
       "      <td>Deutsche Bank</td>\n",
       "      <td>Buy</td>\n",
       "      <td>Hold</td>\n",
       "      <td>up</td>\n",
       "    </tr>\n",
       "    <tr>\n",
       "      <th>32</th>\n",
       "      <td>2013-08-08</td>\n",
       "      <td>Barclays</td>\n",
       "      <td>Hold</td>\n",
       "      <td>Overweight</td>\n",
       "      <td>down</td>\n",
       "    </tr>\n",
       "    <tr>\n",
       "      <th>40</th>\n",
       "      <td>2013-10-02</td>\n",
       "      <td>Baird</td>\n",
       "      <td>Hold</td>\n",
       "      <td>Buy</td>\n",
       "      <td>down</td>\n",
       "    </tr>\n",
       "  </tbody>\n",
       "</table>\n",
       "</div>"
      ],
      "text/plain": [
       "         Date            Firm To Grade  From Grade Action\n",
       "6  2012-09-17  Morgan Stanley      Buy     Neutral     up\n",
       "19 2013-05-09   Goldman Sachs     Hold         Buy   down\n",
       "31 2013-07-26   Deutsche Bank      Buy        Hold     up\n",
       "32 2013-08-08        Barclays     Hold  Overweight   down\n",
       "40 2013-10-02           Baird     Hold         Buy   down"
      ]
     },
     "execution_count": 44,
     "metadata": {},
     "output_type": "execute_result"
    }
   ],
   "source": [
    "#Create df where analysts changed their positions\n",
    "df_change = df.loc[df['From Grade'] != ''].head()\n",
    "df_change.head()"
   ]
  },
  {
   "cell_type": "markdown",
   "metadata": {},
   "source": [
    "### Our df now has simplified recommendations and only companies that frequently provide recommendations for TSLA\n",
    "\n",
    "### Time to bring in historical stock data so we can evaluate the recommendations"
   ]
  },
  {
   "cell_type": "code",
   "execution_count": 45,
   "metadata": {},
   "outputs": [
    {
     "data": {
      "text/html": [
       "<div>\n",
       "<style scoped>\n",
       "    .dataframe tbody tr th:only-of-type {\n",
       "        vertical-align: middle;\n",
       "    }\n",
       "\n",
       "    .dataframe tbody tr th {\n",
       "        vertical-align: top;\n",
       "    }\n",
       "\n",
       "    .dataframe thead th {\n",
       "        text-align: right;\n",
       "    }\n",
       "</style>\n",
       "<table border=\"1\" class=\"dataframe\">\n",
       "  <thead>\n",
       "    <tr style=\"text-align: right;\">\n",
       "      <th></th>\n",
       "      <th>Date</th>\n",
       "      <th>Firm</th>\n",
       "      <th>To Grade</th>\n",
       "      <th>From Grade</th>\n",
       "      <th>Action</th>\n",
       "    </tr>\n",
       "  </thead>\n",
       "  <tbody>\n",
       "    <tr>\n",
       "      <th>count</th>\n",
       "      <td>158</td>\n",
       "      <td>158</td>\n",
       "      <td>158</td>\n",
       "      <td>158</td>\n",
       "      <td>158</td>\n",
       "    </tr>\n",
       "    <tr>\n",
       "      <th>unique</th>\n",
       "      <td>129</td>\n",
       "      <td>10</td>\n",
       "      <td>3</td>\n",
       "      <td>11</td>\n",
       "      <td>5</td>\n",
       "    </tr>\n",
       "    <tr>\n",
       "      <th>top</th>\n",
       "      <td>2016-05-05 00:00:00</td>\n",
       "      <td>Morgan Stanley</td>\n",
       "      <td>Hold</td>\n",
       "      <td></td>\n",
       "      <td>main</td>\n",
       "    </tr>\n",
       "    <tr>\n",
       "      <th>freq</th>\n",
       "      <td>4</td>\n",
       "      <td>28</td>\n",
       "      <td>69</td>\n",
       "      <td>111</td>\n",
       "      <td>116</td>\n",
       "    </tr>\n",
       "    <tr>\n",
       "      <th>first</th>\n",
       "      <td>2012-02-16 00:00:00</td>\n",
       "      <td>NaN</td>\n",
       "      <td>NaN</td>\n",
       "      <td>NaN</td>\n",
       "      <td>NaN</td>\n",
       "    </tr>\n",
       "    <tr>\n",
       "      <th>last</th>\n",
       "      <td>2020-07-23 00:00:00</td>\n",
       "      <td>NaN</td>\n",
       "      <td>NaN</td>\n",
       "      <td>NaN</td>\n",
       "      <td>NaN</td>\n",
       "    </tr>\n",
       "  </tbody>\n",
       "</table>\n",
       "</div>"
      ],
      "text/plain": [
       "                       Date            Firm To Grade From Grade Action\n",
       "count                   158             158      158        158    158\n",
       "unique                  129              10        3         11      5\n",
       "top     2016-05-05 00:00:00  Morgan Stanley     Hold              main\n",
       "freq                      4              28       69        111    116\n",
       "first   2012-02-16 00:00:00             NaN      NaN        NaN    NaN\n",
       "last    2020-07-23 00:00:00             NaN      NaN        NaN    NaN"
      ]
     },
     "execution_count": 45,
     "metadata": {},
     "output_type": "execute_result"
    }
   ],
   "source": [
    "df.describe()"
   ]
  },
  {
   "cell_type": "code",
   "execution_count": 46,
   "metadata": {},
   "outputs": [
    {
     "data": {
      "text/html": [
       "<div>\n",
       "<style scoped>\n",
       "    .dataframe tbody tr th:only-of-type {\n",
       "        vertical-align: middle;\n",
       "    }\n",
       "\n",
       "    .dataframe tbody tr th {\n",
       "        vertical-align: top;\n",
       "    }\n",
       "\n",
       "    .dataframe thead th {\n",
       "        text-align: right;\n",
       "    }\n",
       "</style>\n",
       "<table border=\"1\" class=\"dataframe\">\n",
       "  <thead>\n",
       "    <tr style=\"text-align: right;\">\n",
       "      <th></th>\n",
       "      <th>Open</th>\n",
       "      <th>High</th>\n",
       "      <th>Low</th>\n",
       "      <th>Close</th>\n",
       "      <th>Adj Close</th>\n",
       "      <th>Volume</th>\n",
       "    </tr>\n",
       "    <tr>\n",
       "      <th>Date</th>\n",
       "      <th></th>\n",
       "      <th></th>\n",
       "      <th></th>\n",
       "      <th></th>\n",
       "      <th></th>\n",
       "      <th></th>\n",
       "    </tr>\n",
       "  </thead>\n",
       "  <tbody>\n",
       "    <tr>\n",
       "      <th>2012-01-03</th>\n",
       "      <td>28.940001</td>\n",
       "      <td>29.500000</td>\n",
       "      <td>27.650000</td>\n",
       "      <td>28.080000</td>\n",
       "      <td>28.080000</td>\n",
       "      <td>928100</td>\n",
       "    </tr>\n",
       "    <tr>\n",
       "      <th>2012-01-04</th>\n",
       "      <td>28.209999</td>\n",
       "      <td>28.670000</td>\n",
       "      <td>27.500000</td>\n",
       "      <td>27.709999</td>\n",
       "      <td>27.709999</td>\n",
       "      <td>630100</td>\n",
       "    </tr>\n",
       "    <tr>\n",
       "      <th>2012-01-05</th>\n",
       "      <td>27.760000</td>\n",
       "      <td>27.930000</td>\n",
       "      <td>26.850000</td>\n",
       "      <td>27.120001</td>\n",
       "      <td>27.120001</td>\n",
       "      <td>1005500</td>\n",
       "    </tr>\n",
       "    <tr>\n",
       "      <th>2012-01-06</th>\n",
       "      <td>27.200001</td>\n",
       "      <td>27.790001</td>\n",
       "      <td>26.410000</td>\n",
       "      <td>26.910000</td>\n",
       "      <td>26.910000</td>\n",
       "      <td>986300</td>\n",
       "    </tr>\n",
       "    <tr>\n",
       "      <th>2012-01-09</th>\n",
       "      <td>27.000000</td>\n",
       "      <td>27.490000</td>\n",
       "      <td>26.120001</td>\n",
       "      <td>27.250000</td>\n",
       "      <td>27.250000</td>\n",
       "      <td>897000</td>\n",
       "    </tr>\n",
       "  </tbody>\n",
       "</table>\n",
       "</div>"
      ],
      "text/plain": [
       "                 Open       High        Low      Close  Adj Close   Volume\n",
       "Date                                                                      \n",
       "2012-01-03  28.940001  29.500000  27.650000  28.080000  28.080000   928100\n",
       "2012-01-04  28.209999  28.670000  27.500000  27.709999  27.709999   630100\n",
       "2012-01-05  27.760000  27.930000  26.850000  27.120001  27.120001  1005500\n",
       "2012-01-06  27.200001  27.790001  26.410000  26.910000  26.910000   986300\n",
       "2012-01-09  27.000000  27.490000  26.120001  27.250000  27.250000   897000"
      ]
     },
     "execution_count": 46,
     "metadata": {},
     "output_type": "execute_result"
    }
   ],
   "source": [
    "prices = yf.download('TSLA', start='2012-01-01', end='2020-07-24', interval = '1d', progress=False)\n",
    "prices.head()"
   ]
  },
  {
   "cell_type": "code",
   "execution_count": 47,
   "metadata": {},
   "outputs": [],
   "source": [
    "df_buy = df.loc[df['To Grade']=='Buy']\n",
    "df_sell = df.loc[df['To Grade']=='Sell']"
   ]
  },
  {
   "cell_type": "code",
   "execution_count": 53,
   "metadata": {},
   "outputs": [],
   "source": [
    "#get buy and sell in prices df so we can scatter plot them on the price plot\n",
    "plot_buy = prices.merge(df_buy,on='Date', how = 'left')\n",
    "plot_sell = prices.merge(df_sell,on='Date', how = 'left')\n"
   ]
  },
  {
   "cell_type": "code",
   "execution_count": 54,
   "metadata": {},
   "outputs": [
    {
     "data": {
      "text/html": [
       "<div>\n",
       "<style scoped>\n",
       "    .dataframe tbody tr th:only-of-type {\n",
       "        vertical-align: middle;\n",
       "    }\n",
       "\n",
       "    .dataframe tbody tr th {\n",
       "        vertical-align: top;\n",
       "    }\n",
       "\n",
       "    .dataframe thead th {\n",
       "        text-align: right;\n",
       "    }\n",
       "</style>\n",
       "<table border=\"1\" class=\"dataframe\">\n",
       "  <thead>\n",
       "    <tr style=\"text-align: right;\">\n",
       "      <th></th>\n",
       "      <th>Date</th>\n",
       "      <th>Open</th>\n",
       "      <th>High</th>\n",
       "      <th>Low</th>\n",
       "      <th>Close</th>\n",
       "      <th>Adj Close</th>\n",
       "      <th>Volume</th>\n",
       "      <th>Firm</th>\n",
       "      <th>To Grade</th>\n",
       "      <th>From Grade</th>\n",
       "      <th>Action</th>\n",
       "    </tr>\n",
       "  </thead>\n",
       "  <tbody>\n",
       "    <tr>\n",
       "      <th>31</th>\n",
       "      <td>2012-02-16</td>\n",
       "      <td>33.500000</td>\n",
       "      <td>34.509998</td>\n",
       "      <td>32.540001</td>\n",
       "      <td>34.180000</td>\n",
       "      <td>34.180000</td>\n",
       "      <td>2219700</td>\n",
       "      <td>JP Morgan</td>\n",
       "      <td>Buy</td>\n",
       "      <td></td>\n",
       "      <td>main</td>\n",
       "    </tr>\n",
       "    <tr>\n",
       "      <th>178</th>\n",
       "      <td>2012-09-17</td>\n",
       "      <td>32.349998</td>\n",
       "      <td>32.779999</td>\n",
       "      <td>31.510000</td>\n",
       "      <td>32.540001</td>\n",
       "      <td>32.540001</td>\n",
       "      <td>3212800</td>\n",
       "      <td>Morgan Stanley</td>\n",
       "      <td>Buy</td>\n",
       "      <td>Neutral</td>\n",
       "      <td>up</td>\n",
       "    </tr>\n",
       "    <tr>\n",
       "      <th>184</th>\n",
       "      <td>2012-09-25</td>\n",
       "      <td>28.620001</td>\n",
       "      <td>29.480000</td>\n",
       "      <td>27.530001</td>\n",
       "      <td>27.660000</td>\n",
       "      <td>27.660000</td>\n",
       "      <td>5680400</td>\n",
       "      <td>Goldman Sachs</td>\n",
       "      <td>Buy</td>\n",
       "      <td></td>\n",
       "      <td>main</td>\n",
       "    </tr>\n",
       "    <tr>\n",
       "      <th>185</th>\n",
       "      <td>2012-09-26</td>\n",
       "      <td>27.660000</td>\n",
       "      <td>28.400000</td>\n",
       "      <td>27.480000</td>\n",
       "      <td>27.540001</td>\n",
       "      <td>27.540001</td>\n",
       "      <td>1527200</td>\n",
       "      <td>Jefferies</td>\n",
       "      <td>Buy</td>\n",
       "      <td></td>\n",
       "      <td>main</td>\n",
       "    </tr>\n",
       "    <tr>\n",
       "      <th>193</th>\n",
       "      <td>2012-10-08</td>\n",
       "      <td>28.860001</td>\n",
       "      <td>29.400000</td>\n",
       "      <td>28.610001</td>\n",
       "      <td>29.250000</td>\n",
       "      <td>29.250000</td>\n",
       "      <td>889700</td>\n",
       "      <td>Morgan Stanley</td>\n",
       "      <td>Buy</td>\n",
       "      <td></td>\n",
       "      <td>main</td>\n",
       "    </tr>\n",
       "  </tbody>\n",
       "</table>\n",
       "</div>"
      ],
      "text/plain": [
       "          Date       Open       High        Low      Close  Adj Close  \\\n",
       "31  2012-02-16  33.500000  34.509998  32.540001  34.180000  34.180000   \n",
       "178 2012-09-17  32.349998  32.779999  31.510000  32.540001  32.540001   \n",
       "184 2012-09-25  28.620001  29.480000  27.530001  27.660000  27.660000   \n",
       "185 2012-09-26  27.660000  28.400000  27.480000  27.540001  27.540001   \n",
       "193 2012-10-08  28.860001  29.400000  28.610001  29.250000  29.250000   \n",
       "\n",
       "      Volume            Firm To Grade From Grade Action  \n",
       "31   2219700       JP Morgan      Buy              main  \n",
       "178  3212800  Morgan Stanley      Buy    Neutral     up  \n",
       "184  5680400   Goldman Sachs      Buy              main  \n",
       "185  1527200       Jefferies      Buy              main  \n",
       "193   889700  Morgan Stanley      Buy              main  "
      ]
     },
     "execution_count": 54,
     "metadata": {},
     "output_type": "execute_result"
    }
   ],
   "source": [
    "plot_buy = plot_buy.loc[plot_buy['To Grade']=='Buy']\n",
    "plot_sell = plot_sell.loc[plot_sell['To Grade']=='Sell']\n",
    "\n",
    "plot"
   ]
  },
  {
   "cell_type": "code",
   "execution_count": 76,
   "metadata": {},
   "outputs": [
    {
     "data": {
      "text/plain": [
       "<matplotlib.legend.Legend at 0x1e8a1e04d08>"
      ]
     },
     "execution_count": 76,
     "metadata": {},
     "output_type": "execute_result"
    },
    {
     "data": {
      "image/png": "[encoded data removed]",
      "text/plain": [
       "<Figure size 1080x720 with 2 Axes>"
      ]
     },
     "metadata": {
      "needs_background": "light"
     },
     "output_type": "display_data"
    }
   ],
   "source": [
    "fig = plt.figure(figsize = (15,10))\n",
    "\n",
    "ax1 = plt.subplot(2,1,1)\n",
    "plt.plot(prices.index, prices.Close)\n",
    "plt.scatter(x = plot_buy.Date, y = plot_buy.Close, color = 'black', marker = '^', label = 'Buy Reco',s=70, alpha = 0.8)\n",
    "plt.scatter(x = plot_sell.Date, y = plot_sell.Close, color = 'red', marker = 'v', label = 'Sell Reco',s=70, alpha=0.8)\n",
    "ax1.set_title('Tesla Buy and Sell Recommendations')\n",
    "\n",
    "ax2 = plt.subplot(2,1,2)\n",
    "plt.plot(prices.index,prices.Close)\n",
    "plt.scatter(x = plot_buy.Date, y = plot_buy.Close, color = 'black', marker = '^', label = 'Buy Reco',s=70, alpha=0.8)\n",
    "plt.scatter(x = plot_sell.Date, y = plot_sell.Close, color = 'red', marker = 'v', label = 'Sell Reco', alpha = 0.8, s =70)\n",
    "ax2.set_title('2014 to 2017 Tesla Recos')\n",
    "\n",
    "datemin = dt.date(2014, 1, 2)\n",
    "datemax = dt.date(2017, 1, 3)\n",
    "ax2.set_xlim(datemin, datemax)\n",
    "ax2.set_ylim(50,400)\n",
    "\n",
    "ax1.legend()\n",
    "ax2.legend(loc=2)"
   ]
  },
  {
   "cell_type": "code",
   "execution_count": null,
   "metadata": {},
   "outputs": [],
   "source": []
  }
 ],
 "metadata": {
  "kernelspec": {
   "display_name": "Python 3",
   "language": "python",
   "name": "python3"
  },
  "language_info": {
   "codemirror_mode": {
    "name": "ipython",
    "version": 3
   },
   "file_extension": ".py",
   "mimetype": "text/x-python",
   "name": "python",
   "nbconvert_exporter": "python",
   "pygments_lexer": "ipython3",
   "version": "3.7.6"
  }
 },
 "nbformat": 4,
 "nbformat_minor": 4
}
