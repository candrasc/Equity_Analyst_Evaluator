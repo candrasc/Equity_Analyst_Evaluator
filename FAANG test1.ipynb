{
 "cells": [
  {
   "cell_type": "code",
   "execution_count": 33,
   "metadata": {},
   "outputs": [],
   "source": [
    "from yahoofinancials import YahooFinancials\n",
    "import pandas as pd\n",
    "import seaborn as sns"
   ]
  },
  {
   "cell_type": "code",
   "execution_count": 34,
   "metadata": {},
   "outputs": [
    {
     "data": {
      "text/html": [
       "<div>\n",
       "<style scoped>\n",
       "    .dataframe tbody tr th:only-of-type {\n",
       "        vertical-align: middle;\n",
       "    }\n",
       "\n",
       "    .dataframe tbody tr th {\n",
       "        vertical-align: top;\n",
       "    }\n",
       "\n",
       "    .dataframe thead th {\n",
       "        text-align: right;\n",
       "    }\n",
       "</style>\n",
       "<table border=\"1\" class=\"dataframe\">\n",
       "  <thead>\n",
       "    <tr style=\"text-align: right;\">\n",
       "      <th></th>\n",
       "      <th>F</th>\n",
       "      <th>AMZN</th>\n",
       "      <th>AAPL</th>\n",
       "      <th>NFLX</th>\n",
       "      <th>GOOG</th>\n",
       "    </tr>\n",
       "  </thead>\n",
       "  <tbody>\n",
       "    <tr>\n",
       "      <th>2010-01-01</th>\n",
       "      <td>8.210042</td>\n",
       "      <td>130.000000</td>\n",
       "      <td>26.042646</td>\n",
       "      <td>7.485714</td>\n",
       "      <td>295.940735</td>\n",
       "    </tr>\n",
       "    <tr>\n",
       "      <th>2010-01-08</th>\n",
       "      <td>8.280453</td>\n",
       "      <td>127.349998</td>\n",
       "      <td>25.900436</td>\n",
       "      <td>7.284286</td>\n",
       "      <td>293.823669</td>\n",
       "    </tr>\n",
       "    <tr>\n",
       "      <th>2010-01-15</th>\n",
       "      <td>7.872066</td>\n",
       "      <td>126.620003</td>\n",
       "      <td>25.732233</td>\n",
       "      <td>7.312857</td>\n",
       "      <td>290.401489</td>\n",
       "    </tr>\n",
       "    <tr>\n",
       "      <th>2010-01-22</th>\n",
       "      <td>8.034013</td>\n",
       "      <td>126.029999</td>\n",
       "      <td>24.646406</td>\n",
       "      <td>9.005714</td>\n",
       "      <td>266.147400</td>\n",
       "    </tr>\n",
       "    <tr>\n",
       "      <th>2010-01-29</th>\n",
       "      <td>7.787570</td>\n",
       "      <td>115.940002</td>\n",
       "      <td>23.751026</td>\n",
       "      <td>8.620000</td>\n",
       "      <td>262.406433</td>\n",
       "    </tr>\n",
       "  </tbody>\n",
       "</table>\n",
       "</div>"
      ],
      "text/plain": [
       "                   F        AMZN       AAPL      NFLX        GOOG\n",
       "2010-01-01  8.210042  130.000000  26.042646  7.485714  295.940735\n",
       "2010-01-08  8.280453  127.349998  25.900436  7.284286  293.823669\n",
       "2010-01-15  7.872066  126.620003  25.732233  7.312857  290.401489\n",
       "2010-01-22  8.034013  126.029999  24.646406  9.005714  266.147400\n",
       "2010-01-29  7.787570  115.940002  23.751026  8.620000  262.406433"
      ]
     },
     "execution_count": 34,
     "metadata": {},
     "output_type": "execute_result"
    }
   ],
   "source": [
    "# Credit to https://towardsdatascience.com/a-comprehensive-guide-to-downloading-stock-prices-in-python-2cd93ff821d4\n",
    "assets = ['F','AMZN','AAPL', 'NFLX','GOOG']\n",
    "\n",
    "yahoo_financials = YahooFinancials(assets)\n",
    "\n",
    "data = yahoo_financials.get_historical_price_data(start_date='2010-01-01', \n",
    "                                                  end_date='2019-12-31', \n",
    "                                                  time_interval='weekly')\n",
    "\n",
    "prices_df = pd.DataFrame({\n",
    "    a: {x['formatted_date']: x['adjclose'] for x in data[a]['prices']} for a in assets})\n",
    "\n",
    "prices_df.head()"
   ]
  },
  {
   "cell_type": "code",
   "execution_count": 35,
   "metadata": {},
   "outputs": [
    {
     "data": {
      "text/plain": [
       "<matplotlib.axes._subplots.AxesSubplot at 0x180c75f8cc8>"
      ]
     },
     "execution_count": 35,
     "metadata": {},
     "output_type": "execute_result"
    },
    {
     "data": {
      "image/png": "[encoded data removed]",
      "text/plain": [
       "<Figure size 432x288 with 2 Axes>"
      ]
     },
     "metadata": {
      "needs_background": "light"
     },
     "output_type": "display_data"
    }
   ],
   "source": [
    "sns.heatmap(prices_df.corr(), annot=True)"
   ]
  },
  {
   "cell_type": "code",
   "execution_count": 36,
   "metadata": {},
   "outputs": [],
   "source": [
    "yahoo_financials = YahooFinancials(assets)\n",
    "\n",
    "data1 = yahoo_financials.get_financial_stmts('annual', 'balance')\n",
    "#f_df = pd.DataFrame(data['F']['prices'])\n",
    "#f_df = tsla_df.drop('date', axis=1).set_index('formatted_date')\n",
    "#f_df.head()"
   ]
  },
  {
   "cell_type": "code",
   "execution_count": 39,
   "metadata": {},
   "outputs": [],
   "source": [
    "fb = data1['balanceSheetHistory']"
   ]
  },
  {
   "cell_type": "code",
   "execution_count": 40,
   "metadata": {},
   "outputs": [
    {
     "data": {
      "text/plain": [
       "{'F': None, 'AMZN': None, 'AAPL': None, 'NFLX': None, 'GOOG': None}"
      ]
     },
     "execution_count": 40,
     "metadata": {},
     "output_type": "execute_result"
    }
   ],
   "source": [
    "fb"
   ]
  },
  {
   "cell_type": "code",
   "execution_count": null,
   "metadata": {},
   "outputs": [],
   "source": []
  }
 ],
 "metadata": {
  "kernelspec": {
   "display_name": "Python 3",
   "language": "python",
   "name": "python3"
  },
  "language_info": {
   "codemirror_mode": {
    "name": "ipython",
    "version": 3
   },
   "file_extension": ".py",
   "mimetype": "text/x-python",
   "name": "python",
   "nbconvert_exporter": "python",
   "pygments_lexer": "ipython3",
   "version": "3.7.6"
  }
 },
 "nbformat": 4,
 "nbformat_minor": 4
}
