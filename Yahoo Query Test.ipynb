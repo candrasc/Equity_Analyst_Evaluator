{
 "cells": [
  {
   "cell_type": "code",
   "execution_count": 1,
   "metadata": {},
   "outputs": [],
   "source": [
    "#https://pypi.org/project/yahooquery/\n",
    "from yahooquery import Ticker"
   ]
  },
  {
   "cell_type": "code",
   "execution_count": 4,
   "metadata": {},
   "outputs": [],
   "source": [
    "aapl = Ticker('aapl')"
   ]
  },
  {
   "cell_type": "code",
   "execution_count": 10,
   "metadata": {},
   "outputs": [],
   "source": [
    "a_stats= aapl.key_stats['aapl']"
   ]
  },
  {
   "cell_type": "code",
   "execution_count": 11,
   "metadata": {},
   "outputs": [
    {
     "data": {
      "text/plain": [
       "{'maxAge': 1,\n",
       " 'priceHint': 2,\n",
       " 'enterpriseValue': 1706432004096,\n",
       " 'forwardPE': 26.060951,\n",
       " 'profitMargins': 0.21350001,\n",
       " 'floatShares': 4329740605,\n",
       " 'sharesOutstanding': 4334329856,\n",
       " 'sharesShort': 33962851,\n",
       " 'sharesShortPriorMonth': 34194077,\n",
       " 'sharesShortPreviousMonthDate': '2020-05-28 20:00:00',\n",
       " 'dateShortInterest': '2020-06-29 20:00:00',\n",
       " 'sharesPercentSharesOut': 0.0078,\n",
       " 'heldPercentInsiders': 0.00066,\n",
       " 'heldPercentInstitutions': 0.62115,\n",
       " 'shortRatio': 0.92,\n",
       " 'shortPercentOfFloat': 0.0078,\n",
       " 'beta': 1.182072,\n",
       " 'category': None,\n",
       " 'bookValue': 18.137,\n",
       " 'priceToBook': 21.452831,\n",
       " 'fundFamily': None,\n",
       " 'legalType': None,\n",
       " 'lastFiscalYearEnd': '2019-09-27 20:00:00',\n",
       " 'nextFiscalYearEnd': '2021-09-27 20:00:00',\n",
       " 'mostRecentQuarter': '2020-03-27 20:00:00',\n",
       " 'earningsQuarterlyGrowth': -0.027,\n",
       " 'netIncomeToCommon': 57215000576,\n",
       " 'trailingEps': 12.728,\n",
       " 'forwardEps': 14.93,\n",
       " 'pegRatio': 2.63,\n",
       " 'lastSplitFactor': '7:1',\n",
       " 'lastSplitDate': '2014-06-08 20:00:00',\n",
       " 'enterpriseToRevenue': 6.368,\n",
       " 'enterpriseToEbitda': 22.074,\n",
       " '52WeekChange': 0.85939527,\n",
       " 'SandP52WeekChange': 0.078733325}"
      ]
     },
     "execution_count": 11,
     "metadata": {},
     "output_type": "execute_result"
    }
   ],
   "source": [
    "a_stats"
   ]
  },
  {
   "cell_type": "code",
   "execution_count": 9,
   "metadata": {},
   "outputs": [
    {
     "data": {
      "text/plain": [
       "{'maxAge': 1,\n",
       " 'priceHint': 2,\n",
       " 'enterpriseValue': 1706432004096,\n",
       " 'forwardPE': 26.060951,\n",
       " 'profitMargins': 0.21350001,\n",
       " 'floatShares': 4329740605,\n",
       " 'sharesOutstanding': 4334329856,\n",
       " 'sharesShort': 33962851,\n",
       " 'sharesShortPriorMonth': 34194077,\n",
       " 'sharesShortPreviousMonthDate': '2020-05-28 20:00:00',\n",
       " 'dateShortInterest': '2020-06-29 20:00:00',\n",
       " 'sharesPercentSharesOut': 0.0078,\n",
       " 'heldPercentInsiders': 0.00066,\n",
       " 'heldPercentInstitutions': 0.62115,\n",
       " 'shortRatio': 0.92,\n",
       " 'shortPercentOfFloat': 0.0078,\n",
       " 'beta': 1.182072,\n",
       " 'category': None,\n",
       " 'bookValue': 18.137,\n",
       " 'priceToBook': 21.452831,\n",
       " 'fundFamily': None,\n",
       " 'legalType': None,\n",
       " 'lastFiscalYearEnd': '2019-09-27 20:00:00',\n",
       " 'nextFiscalYearEnd': '2021-09-27 20:00:00',\n",
       " 'mostRecentQuarter': '2020-03-27 20:00:00',\n",
       " 'earningsQuarterlyGrowth': -0.027,\n",
       " 'netIncomeToCommon': 57215000576,\n",
       " 'trailingEps': 12.728,\n",
       " 'forwardEps': 14.93,\n",
       " 'pegRatio': 2.63,\n",
       " 'lastSplitFactor': '7:1',\n",
       " 'lastSplitDate': '2014-06-08 20:00:00',\n",
       " 'enterpriseToRevenue': 6.368,\n",
       " 'enterpriseToEbitda': 22.074,\n",
       " '52WeekChange': 0.85939527,\n",
       " 'SandP52WeekChange': 0.078733325}"
      ]
     },
     "execution_count": 9,
     "metadata": {},
     "output_type": "execute_result"
    }
   ],
   "source": []
  },
  {
   "cell_type": "code",
   "execution_count": null,
   "metadata": {},
   "outputs": [],
   "source": []
  }
 ],
 "metadata": {
  "kernelspec": {
   "display_name": "Python 3",
   "language": "python",
   "name": "python3"
  },
  "language_info": {
   "codemirror_mode": {
    "name": "ipython",
    "version": 3
   },
   "file_extension": ".py",
   "mimetype": "text/x-python",
   "name": "python",
   "nbconvert_exporter": "python",
   "pygments_lexer": "ipython3",
   "version": "3.7.6"
  }
 },
 "nbformat": 4,
 "nbformat_minor": 4
}
